{
 "cells": [
  {
   "cell_type": "code",
   "execution_count": 5,
   "id": "1cbd8e02",
   "metadata": {
    "scrolled": false
   },
   "outputs": [
    {
     "ename": "ValueError",
     "evalue": "Input X contains NaN.\nRandomForestClassifier does not accept missing values encoded as NaN natively. For supervised learning, you might want to consider sklearn.ensemble.HistGradientBoostingClassifier and Regressor which accept missing values encoded as NaNs natively. Alternatively, it is possible to preprocess the data, for instance by using an imputer transformer in a pipeline or drop samples with missing values. See https://scikit-learn.org/stable/modules/impute.html You can find a list of all estimators that handle NaN values at the following page: https://scikit-learn.org/stable/modules/impute.html#estimators-that-handle-nan-values",
     "output_type": "error",
     "traceback": [
      "\u001b[0;31m---------------------------------------------------------------------------\u001b[0m",
      "\u001b[0;31mValueError\u001b[0m                                Traceback (most recent call last)",
      "Cell \u001b[0;32mIn[5], line 36\u001b[0m\n\u001b[1;32m     34\u001b[0m \u001b[38;5;66;03m# Model Training\u001b[39;00m\n\u001b[1;32m     35\u001b[0m model \u001b[38;5;241m=\u001b[39m RandomForestClassifier(random_state\u001b[38;5;241m=\u001b[39m\u001b[38;5;241m42\u001b[39m)\n\u001b[0;32m---> 36\u001b[0m model\u001b[38;5;241m.\u001b[39mfit(X_train, y_train)\n\u001b[1;32m     38\u001b[0m \u001b[38;5;66;03m# Model Evaluation\u001b[39;00m\n\u001b[1;32m     39\u001b[0m y_pred \u001b[38;5;241m=\u001b[39m model\u001b[38;5;241m.\u001b[39mpredict(X_test)\n",
      "File \u001b[0;32m~/Documents/anaconda3/lib/python3.11/site-packages/sklearn/base.py:1151\u001b[0m, in \u001b[0;36m_fit_context.<locals>.decorator.<locals>.wrapper\u001b[0;34m(estimator, *args, **kwargs)\u001b[0m\n\u001b[1;32m   1144\u001b[0m     estimator\u001b[38;5;241m.\u001b[39m_validate_params()\n\u001b[1;32m   1146\u001b[0m \u001b[38;5;28;01mwith\u001b[39;00m config_context(\n\u001b[1;32m   1147\u001b[0m     skip_parameter_validation\u001b[38;5;241m=\u001b[39m(\n\u001b[1;32m   1148\u001b[0m         prefer_skip_nested_validation \u001b[38;5;129;01mor\u001b[39;00m global_skip_validation\n\u001b[1;32m   1149\u001b[0m     )\n\u001b[1;32m   1150\u001b[0m ):\n\u001b[0;32m-> 1151\u001b[0m     \u001b[38;5;28;01mreturn\u001b[39;00m fit_method(estimator, \u001b[38;5;241m*\u001b[39margs, \u001b[38;5;241m*\u001b[39m\u001b[38;5;241m*\u001b[39mkwargs)\n",
      "File \u001b[0;32m~/Documents/anaconda3/lib/python3.11/site-packages/sklearn/ensemble/_forest.py:348\u001b[0m, in \u001b[0;36mBaseForest.fit\u001b[0;34m(self, X, y, sample_weight)\u001b[0m\n\u001b[1;32m    346\u001b[0m \u001b[38;5;28;01mif\u001b[39;00m issparse(y):\n\u001b[1;32m    347\u001b[0m     \u001b[38;5;28;01mraise\u001b[39;00m \u001b[38;5;167;01mValueError\u001b[39;00m(\u001b[38;5;124m\"\u001b[39m\u001b[38;5;124msparse multilabel-indicator for y is not supported.\u001b[39m\u001b[38;5;124m\"\u001b[39m)\n\u001b[0;32m--> 348\u001b[0m X, y \u001b[38;5;241m=\u001b[39m \u001b[38;5;28mself\u001b[39m\u001b[38;5;241m.\u001b[39m_validate_data(\n\u001b[1;32m    349\u001b[0m     X, y, multi_output\u001b[38;5;241m=\u001b[39m\u001b[38;5;28;01mTrue\u001b[39;00m, accept_sparse\u001b[38;5;241m=\u001b[39m\u001b[38;5;124m\"\u001b[39m\u001b[38;5;124mcsc\u001b[39m\u001b[38;5;124m\"\u001b[39m, dtype\u001b[38;5;241m=\u001b[39mDTYPE\n\u001b[1;32m    350\u001b[0m )\n\u001b[1;32m    351\u001b[0m \u001b[38;5;28;01mif\u001b[39;00m sample_weight \u001b[38;5;129;01mis\u001b[39;00m \u001b[38;5;129;01mnot\u001b[39;00m \u001b[38;5;28;01mNone\u001b[39;00m:\n\u001b[1;32m    352\u001b[0m     sample_weight \u001b[38;5;241m=\u001b[39m _check_sample_weight(sample_weight, X)\n",
      "File \u001b[0;32m~/Documents/anaconda3/lib/python3.11/site-packages/sklearn/base.py:621\u001b[0m, in \u001b[0;36mBaseEstimator._validate_data\u001b[0;34m(self, X, y, reset, validate_separately, cast_to_ndarray, **check_params)\u001b[0m\n\u001b[1;32m    619\u001b[0m         y \u001b[38;5;241m=\u001b[39m check_array(y, input_name\u001b[38;5;241m=\u001b[39m\u001b[38;5;124m\"\u001b[39m\u001b[38;5;124my\u001b[39m\u001b[38;5;124m\"\u001b[39m, \u001b[38;5;241m*\u001b[39m\u001b[38;5;241m*\u001b[39mcheck_y_params)\n\u001b[1;32m    620\u001b[0m     \u001b[38;5;28;01melse\u001b[39;00m:\n\u001b[0;32m--> 621\u001b[0m         X, y \u001b[38;5;241m=\u001b[39m check_X_y(X, y, \u001b[38;5;241m*\u001b[39m\u001b[38;5;241m*\u001b[39mcheck_params)\n\u001b[1;32m    622\u001b[0m     out \u001b[38;5;241m=\u001b[39m X, y\n\u001b[1;32m    624\u001b[0m \u001b[38;5;28;01mif\u001b[39;00m \u001b[38;5;129;01mnot\u001b[39;00m no_val_X \u001b[38;5;129;01mand\u001b[39;00m check_params\u001b[38;5;241m.\u001b[39mget(\u001b[38;5;124m\"\u001b[39m\u001b[38;5;124mensure_2d\u001b[39m\u001b[38;5;124m\"\u001b[39m, \u001b[38;5;28;01mTrue\u001b[39;00m):\n",
      "File \u001b[0;32m~/Documents/anaconda3/lib/python3.11/site-packages/sklearn/utils/validation.py:1147\u001b[0m, in \u001b[0;36mcheck_X_y\u001b[0;34m(X, y, accept_sparse, accept_large_sparse, dtype, order, copy, force_all_finite, ensure_2d, allow_nd, multi_output, ensure_min_samples, ensure_min_features, y_numeric, estimator)\u001b[0m\n\u001b[1;32m   1142\u001b[0m         estimator_name \u001b[38;5;241m=\u001b[39m _check_estimator_name(estimator)\n\u001b[1;32m   1143\u001b[0m     \u001b[38;5;28;01mraise\u001b[39;00m \u001b[38;5;167;01mValueError\u001b[39;00m(\n\u001b[1;32m   1144\u001b[0m         \u001b[38;5;124mf\u001b[39m\u001b[38;5;124m\"\u001b[39m\u001b[38;5;132;01m{\u001b[39;00mestimator_name\u001b[38;5;132;01m}\u001b[39;00m\u001b[38;5;124m requires y to be passed, but the target y is None\u001b[39m\u001b[38;5;124m\"\u001b[39m\n\u001b[1;32m   1145\u001b[0m     )\n\u001b[0;32m-> 1147\u001b[0m X \u001b[38;5;241m=\u001b[39m check_array(\n\u001b[1;32m   1148\u001b[0m     X,\n\u001b[1;32m   1149\u001b[0m     accept_sparse\u001b[38;5;241m=\u001b[39maccept_sparse,\n\u001b[1;32m   1150\u001b[0m     accept_large_sparse\u001b[38;5;241m=\u001b[39maccept_large_sparse,\n\u001b[1;32m   1151\u001b[0m     dtype\u001b[38;5;241m=\u001b[39mdtype,\n\u001b[1;32m   1152\u001b[0m     order\u001b[38;5;241m=\u001b[39morder,\n\u001b[1;32m   1153\u001b[0m     copy\u001b[38;5;241m=\u001b[39mcopy,\n\u001b[1;32m   1154\u001b[0m     force_all_finite\u001b[38;5;241m=\u001b[39mforce_all_finite,\n\u001b[1;32m   1155\u001b[0m     ensure_2d\u001b[38;5;241m=\u001b[39mensure_2d,\n\u001b[1;32m   1156\u001b[0m     allow_nd\u001b[38;5;241m=\u001b[39mallow_nd,\n\u001b[1;32m   1157\u001b[0m     ensure_min_samples\u001b[38;5;241m=\u001b[39mensure_min_samples,\n\u001b[1;32m   1158\u001b[0m     ensure_min_features\u001b[38;5;241m=\u001b[39mensure_min_features,\n\u001b[1;32m   1159\u001b[0m     estimator\u001b[38;5;241m=\u001b[39mestimator,\n\u001b[1;32m   1160\u001b[0m     input_name\u001b[38;5;241m=\u001b[39m\u001b[38;5;124m\"\u001b[39m\u001b[38;5;124mX\u001b[39m\u001b[38;5;124m\"\u001b[39m,\n\u001b[1;32m   1161\u001b[0m )\n\u001b[1;32m   1163\u001b[0m y \u001b[38;5;241m=\u001b[39m _check_y(y, multi_output\u001b[38;5;241m=\u001b[39mmulti_output, y_numeric\u001b[38;5;241m=\u001b[39my_numeric, estimator\u001b[38;5;241m=\u001b[39mestimator)\n\u001b[1;32m   1165\u001b[0m check_consistent_length(X, y)\n",
      "File \u001b[0;32m~/Documents/anaconda3/lib/python3.11/site-packages/sklearn/utils/validation.py:959\u001b[0m, in \u001b[0;36mcheck_array\u001b[0;34m(array, accept_sparse, accept_large_sparse, dtype, order, copy, force_all_finite, ensure_2d, allow_nd, ensure_min_samples, ensure_min_features, estimator, input_name)\u001b[0m\n\u001b[1;32m    953\u001b[0m         \u001b[38;5;28;01mraise\u001b[39;00m \u001b[38;5;167;01mValueError\u001b[39;00m(\n\u001b[1;32m    954\u001b[0m             \u001b[38;5;124m\"\u001b[39m\u001b[38;5;124mFound array with dim \u001b[39m\u001b[38;5;132;01m%d\u001b[39;00m\u001b[38;5;124m. \u001b[39m\u001b[38;5;132;01m%s\u001b[39;00m\u001b[38;5;124m expected <= 2.\u001b[39m\u001b[38;5;124m\"\u001b[39m\n\u001b[1;32m    955\u001b[0m             \u001b[38;5;241m%\u001b[39m (array\u001b[38;5;241m.\u001b[39mndim, estimator_name)\n\u001b[1;32m    956\u001b[0m         )\n\u001b[1;32m    958\u001b[0m     \u001b[38;5;28;01mif\u001b[39;00m force_all_finite:\n\u001b[0;32m--> 959\u001b[0m         _assert_all_finite(\n\u001b[1;32m    960\u001b[0m             array,\n\u001b[1;32m    961\u001b[0m             input_name\u001b[38;5;241m=\u001b[39minput_name,\n\u001b[1;32m    962\u001b[0m             estimator_name\u001b[38;5;241m=\u001b[39mestimator_name,\n\u001b[1;32m    963\u001b[0m             allow_nan\u001b[38;5;241m=\u001b[39mforce_all_finite \u001b[38;5;241m==\u001b[39m \u001b[38;5;124m\"\u001b[39m\u001b[38;5;124mallow-nan\u001b[39m\u001b[38;5;124m\"\u001b[39m,\n\u001b[1;32m    964\u001b[0m         )\n\u001b[1;32m    966\u001b[0m \u001b[38;5;28;01mif\u001b[39;00m ensure_min_samples \u001b[38;5;241m>\u001b[39m \u001b[38;5;241m0\u001b[39m:\n\u001b[1;32m    967\u001b[0m     n_samples \u001b[38;5;241m=\u001b[39m _num_samples(array)\n",
      "File \u001b[0;32m~/Documents/anaconda3/lib/python3.11/site-packages/sklearn/utils/validation.py:124\u001b[0m, in \u001b[0;36m_assert_all_finite\u001b[0;34m(X, allow_nan, msg_dtype, estimator_name, input_name)\u001b[0m\n\u001b[1;32m    121\u001b[0m \u001b[38;5;28;01mif\u001b[39;00m first_pass_isfinite:\n\u001b[1;32m    122\u001b[0m     \u001b[38;5;28;01mreturn\u001b[39;00m\n\u001b[0;32m--> 124\u001b[0m _assert_all_finite_element_wise(\n\u001b[1;32m    125\u001b[0m     X,\n\u001b[1;32m    126\u001b[0m     xp\u001b[38;5;241m=\u001b[39mxp,\n\u001b[1;32m    127\u001b[0m     allow_nan\u001b[38;5;241m=\u001b[39mallow_nan,\n\u001b[1;32m    128\u001b[0m     msg_dtype\u001b[38;5;241m=\u001b[39mmsg_dtype,\n\u001b[1;32m    129\u001b[0m     estimator_name\u001b[38;5;241m=\u001b[39mestimator_name,\n\u001b[1;32m    130\u001b[0m     input_name\u001b[38;5;241m=\u001b[39minput_name,\n\u001b[1;32m    131\u001b[0m )\n",
      "File \u001b[0;32m~/Documents/anaconda3/lib/python3.11/site-packages/sklearn/utils/validation.py:173\u001b[0m, in \u001b[0;36m_assert_all_finite_element_wise\u001b[0;34m(X, xp, allow_nan, msg_dtype, estimator_name, input_name)\u001b[0m\n\u001b[1;32m    156\u001b[0m \u001b[38;5;28;01mif\u001b[39;00m estimator_name \u001b[38;5;129;01mand\u001b[39;00m input_name \u001b[38;5;241m==\u001b[39m \u001b[38;5;124m\"\u001b[39m\u001b[38;5;124mX\u001b[39m\u001b[38;5;124m\"\u001b[39m \u001b[38;5;129;01mand\u001b[39;00m has_nan_error:\n\u001b[1;32m    157\u001b[0m     \u001b[38;5;66;03m# Improve the error message on how to handle missing values in\u001b[39;00m\n\u001b[1;32m    158\u001b[0m     \u001b[38;5;66;03m# scikit-learn.\u001b[39;00m\n\u001b[1;32m    159\u001b[0m     msg_err \u001b[38;5;241m+\u001b[39m\u001b[38;5;241m=\u001b[39m (\n\u001b[1;32m    160\u001b[0m         \u001b[38;5;124mf\u001b[39m\u001b[38;5;124m\"\u001b[39m\u001b[38;5;130;01m\\n\u001b[39;00m\u001b[38;5;132;01m{\u001b[39;00mestimator_name\u001b[38;5;132;01m}\u001b[39;00m\u001b[38;5;124m does not accept missing values\u001b[39m\u001b[38;5;124m\"\u001b[39m\n\u001b[1;32m    161\u001b[0m         \u001b[38;5;124m\"\u001b[39m\u001b[38;5;124m encoded as NaN natively. For supervised learning, you might want\u001b[39m\u001b[38;5;124m\"\u001b[39m\n\u001b[0;32m   (...)\u001b[0m\n\u001b[1;32m    171\u001b[0m         \u001b[38;5;124m\"\u001b[39m\u001b[38;5;124m#estimators-that-handle-nan-values\u001b[39m\u001b[38;5;124m\"\u001b[39m\n\u001b[1;32m    172\u001b[0m     )\n\u001b[0;32m--> 173\u001b[0m \u001b[38;5;28;01mraise\u001b[39;00m \u001b[38;5;167;01mValueError\u001b[39;00m(msg_err)\n",
      "\u001b[0;31mValueError\u001b[0m: Input X contains NaN.\nRandomForestClassifier does not accept missing values encoded as NaN natively. For supervised learning, you might want to consider sklearn.ensemble.HistGradientBoostingClassifier and Regressor which accept missing values encoded as NaNs natively. Alternatively, it is possible to preprocess the data, for instance by using an imputer transformer in a pipeline or drop samples with missing values. See https://scikit-learn.org/stable/modules/impute.html You can find a list of all estimators that handle NaN values at the following page: https://scikit-learn.org/stable/modules/impute.html#estimators-that-handle-nan-values"
     ]
    }
   ],
   "source": [
    "# Import necessary libraries\n",
    "import pandas as pd\n",
    "from sklearn.model_selection import train_test_split\n",
    "from sklearn.ensemble import RandomForestClassifier\n",
    "from sklearn.metrics import classification_report\n",
    "from sklearn.preprocessing import LabelEncoder\n",
    "import shap\n",
    "\n",
    "# Load data\n",
    "payment_data = pd.read_csv('payment_data.csv')\n",
    "customer_data = pd.read_csv('customer_data.csv')\n",
    "\n",
    "# Explore Data\n",
    "# ... (Explore data as described in the previous response)\n",
    "\n",
    "# Build Features\n",
    "# ... (Feature engineering as described in the previous response)\n",
    "\n",
    "# Merge data\n",
    "merged_data = pd.merge(payment_data, customer_data, on='id', how='inner')\n",
    "\n",
    "# Data Preprocessing\n",
    "# Encode categorical features\n",
    "label_encoder = LabelEncoder()\n",
    "merged_data['encoded_prod_code'] = label_encoder.fit_transform(merged_data['prod_code'])\n",
    "\n",
    "# Define features and target\n",
    "features = ['OVD_t1', 'OVD_t2', 'OVD_t3', 'OVD_sum', 'pay_normal', 'encoded_prod_code', 'prod_limit', 'new_balance', 'highest_balance']\n",
    "target = 'label'  # Replace with the actual target column name\n",
    "\n",
    "# Train-Test Split\n",
    "X_train, X_test, y_train, y_test = train_test_split(merged_data[features], merged_data[target], test_size=0.2, random_state=42)\n",
    "\n",
    "# Model Training\n",
    "model = RandomForestClassifier(random_state=42)\n",
    "model.fit(X_train, y_train)\n",
    "\n",
    "# Model Evaluation\n",
    "y_pred = model.predict(X_test)\n",
    "print(classification_report(y_test, y_pred))\n",
    "\n",
    "# Feature Importance\n",
    "feature_importance = pd.DataFrame({'Feature': features, 'Importance': model.feature_importances_})\n",
    "print(feature_importance.sort_values(by='Importance', ascending=False))\n",
    "\n",
    "# Model Interpretability (using SHAP)\n",
    "explainer = shap.TreeExplainer(model)\n",
    "shap_values = explainer.shap_values(X_test)\n",
    "\n",
    "# Plot summary plot\n",
    "shap.summary_plot(shap_values, X_test, feature_names=features)"
   ]
  },
  {
   "cell_type": "code",
   "execution_count": 2,
   "id": "75683f67",
   "metadata": {},
   "outputs": [
    {
     "name": "stdout",
     "output_type": "stream",
     "text": [
      "Collecting shap\n",
      "  Obtaining dependency information for shap from https://files.pythonhosted.org/packages/69/17/805f875ba4c906c13e763d23387ec709bd9ff4d00e2e876f7bc1e31d9fb5/shap-0.43.0-cp311-cp311-macosx_10_9_x86_64.whl.metadata\n",
      "  Downloading shap-0.43.0-cp311-cp311-macosx_10_9_x86_64.whl.metadata (24 kB)\n",
      "Requirement already satisfied: numpy in /Users/isaacxiao/Documents/anaconda3/lib/python3.11/site-packages (from shap) (1.24.3)\n",
      "Requirement already satisfied: scipy in /Users/isaacxiao/Documents/anaconda3/lib/python3.11/site-packages (from shap) (1.11.1)\n",
      "Requirement already satisfied: scikit-learn in /Users/isaacxiao/Documents/anaconda3/lib/python3.11/site-packages (from shap) (1.3.0)\n",
      "Requirement already satisfied: pandas in /Users/isaacxiao/Documents/anaconda3/lib/python3.11/site-packages (from shap) (2.0.3)\n",
      "Requirement already satisfied: tqdm>=4.27.0 in /Users/isaacxiao/Documents/anaconda3/lib/python3.11/site-packages (from shap) (4.65.0)\n",
      "Requirement already satisfied: packaging>20.9 in /Users/isaacxiao/Documents/anaconda3/lib/python3.11/site-packages (from shap) (23.1)\n",
      "Collecting slicer==0.0.7 (from shap)\n",
      "  Downloading slicer-0.0.7-py3-none-any.whl (14 kB)\n",
      "Requirement already satisfied: numba in /Users/isaacxiao/Documents/anaconda3/lib/python3.11/site-packages (from shap) (0.57.0)\n",
      "Requirement already satisfied: cloudpickle in /Users/isaacxiao/Documents/anaconda3/lib/python3.11/site-packages (from shap) (2.2.1)\n",
      "Requirement already satisfied: llvmlite<0.41,>=0.40.0dev0 in /Users/isaacxiao/Documents/anaconda3/lib/python3.11/site-packages (from numba->shap) (0.40.0)\n",
      "Requirement already satisfied: python-dateutil>=2.8.2 in /Users/isaacxiao/Documents/anaconda3/lib/python3.11/site-packages (from pandas->shap) (2.8.2)\n",
      "Requirement already satisfied: pytz>=2020.1 in /Users/isaacxiao/Documents/anaconda3/lib/python3.11/site-packages (from pandas->shap) (2023.3.post1)\n",
      "Requirement already satisfied: tzdata>=2022.1 in /Users/isaacxiao/Documents/anaconda3/lib/python3.11/site-packages (from pandas->shap) (2023.3)\n",
      "Requirement already satisfied: joblib>=1.1.1 in /Users/isaacxiao/Documents/anaconda3/lib/python3.11/site-packages (from scikit-learn->shap) (1.2.0)\n",
      "Requirement already satisfied: threadpoolctl>=2.0.0 in /Users/isaacxiao/Documents/anaconda3/lib/python3.11/site-packages (from scikit-learn->shap) (2.2.0)\n",
      "Requirement already satisfied: six>=1.5 in /Users/isaacxiao/Documents/anaconda3/lib/python3.11/site-packages (from python-dateutil>=2.8.2->pandas->shap) (1.16.0)\n",
      "Downloading shap-0.43.0-cp311-cp311-macosx_10_9_x86_64.whl (450 kB)\n",
      "\u001b[2K   \u001b[90m━━━━━━━━━━━━━━━━━━━━━━━━━━━━━━━━━━━━━━━━\u001b[0m \u001b[32m450.3/450.3 kB\u001b[0m \u001b[31m7.4 MB/s\u001b[0m eta \u001b[36m0:00:00\u001b[0m:00:01\u001b[0m\n",
      "\u001b[?25hInstalling collected packages: slicer, shap\n",
      "Successfully installed shap-0.43.0 slicer-0.0.7\n",
      "Note: you may need to restart the kernel to use updated packages.\n"
     ]
    }
   ],
   "source": [
    "pip install shap"
   ]
  },
  {
   "cell_type": "code",
   "execution_count": 6,
   "id": "4212b631",
   "metadata": {},
   "outputs": [
    {
     "name": "stdout",
     "output_type": "stream",
     "text": [
      "              precision    recall  f1-score   support\n",
      "\n",
      "           0       0.83      0.96      0.89      1079\n",
      "           1       0.35      0.10      0.16       241\n",
      "\n",
      "    accuracy                           0.80      1320\n",
      "   macro avg       0.59      0.53      0.52      1320\n",
      "weighted avg       0.74      0.80      0.75      1320\n",
      "\n"
     ]
    }
   ],
   "source": [
    "from sklearn.impute import SimpleImputer\n",
    "from sklearn.ensemble import RandomForestClassifier\n",
    "from sklearn.model_selection import train_test_split\n",
    "from sklearn.metrics import classification_report\n",
    "\n",
    "# Assuming X_train and y_train are your training data and labels\n",
    "# Replace NaN values with the mean of each column\n",
    "imputer = SimpleImputer(strategy='mean')\n",
    "X_train_imputed = imputer.fit_transform(X_train)\n",
    "\n",
    "# Split the data into training and testing sets\n",
    "X_train_split, X_test_split, y_train_split, y_test_split = train_test_split(\n",
    "    X_train_imputed, y_train, test_size=0.2, random_state=42\n",
    ")\n",
    "\n",
    "# Model Training\n",
    "model = RandomForestClassifier(random_state=42)\n",
    "model.fit(X_train_split, y_train_split)\n",
    "\n",
    "# Model Evaluation\n",
    "y_pred = model.predict(X_test_split)\n",
    "print(classification_report(y_test_split, y_pred))"
   ]
  },
  {
   "cell_type": "code",
   "execution_count": 7,
   "id": "24672de7",
   "metadata": {},
   "outputs": [
    {
     "name": "stdout",
     "output_type": "stream",
     "text": [
      "Payment Data:\n",
      "<class 'pandas.core.frame.DataFrame'>\n",
      "RangeIndex: 8250 entries, 0 to 8249\n",
      "Data columns (total 12 columns):\n",
      " #   Column           Non-Null Count  Dtype  \n",
      "---  ------           --------------  -----  \n",
      " 0   id               8250 non-null   int64  \n",
      " 1   OVD_t1           8250 non-null   int64  \n",
      " 2   OVD_t2           8250 non-null   int64  \n",
      " 3   OVD_t3           8250 non-null   int64  \n",
      " 4   OVD_sum          8250 non-null   int64  \n",
      " 5   pay_normal       8250 non-null   int64  \n",
      " 6   prod_code        8250 non-null   int64  \n",
      " 7   prod_limit       2132 non-null   float64\n",
      " 8   update_date      8224 non-null   object \n",
      " 9   new_balance      8250 non-null   float64\n",
      " 10  highest_balance  7841 non-null   float64\n",
      " 11  report_date      7136 non-null   object \n",
      "dtypes: float64(3), int64(7), object(2)\n",
      "memory usage: 773.6+ KB\n",
      "None\n",
      "\n",
      "Customer Data:\n",
      "<class 'pandas.core.frame.DataFrame'>\n",
      "RangeIndex: 1125 entries, 0 to 1124\n",
      "Data columns (total 13 columns):\n",
      " #   Column  Non-Null Count  Dtype  \n",
      "---  ------  --------------  -----  \n",
      " 0   label   1125 non-null   int64  \n",
      " 1   id      1125 non-null   int64  \n",
      " 2   fea_1   1125 non-null   int64  \n",
      " 3   fea_2   976 non-null    float64\n",
      " 4   fea_3   1125 non-null   int64  \n",
      " 5   fea_4   1125 non-null   float64\n",
      " 6   fea_5   1125 non-null   int64  \n",
      " 7   fea_6   1125 non-null   int64  \n",
      " 8   fea_7   1125 non-null   int64  \n",
      " 9   fea_8   1125 non-null   int64  \n",
      " 10  fea_9   1125 non-null   int64  \n",
      " 11  fea_10  1125 non-null   int64  \n",
      " 12  fea_11  1125 non-null   float64\n",
      "dtypes: float64(3), int64(10)\n",
      "memory usage: 114.4 KB\n",
      "None\n",
      "\n",
      "Payment Data Summary Statistics:\n",
      "                 id       OVD_t1       OVD_t2       OVD_t3       OVD_sum  \\\n",
      "count  8.250000e+03  8250.000000  8250.000000  8250.000000   8250.000000   \n",
      "mean   5.782173e+07     0.249091     0.127152     0.369212    187.681697   \n",
      "std    1.822724e+06     1.250197     0.860046     2.900320   1804.232570   \n",
      "min    5.498235e+07     0.000000     0.000000     0.000000      0.000000   \n",
      "25%    5.499050e+07     0.000000     0.000000     0.000000      0.000000   \n",
      "50%    5.898905e+07     0.000000     0.000000     0.000000      0.000000   \n",
      "75%    5.899655e+07     0.000000     0.000000     0.000000      0.000000   \n",
      "max    5.900624e+07    34.000000    34.000000    35.000000  31500.000000   \n",
      "\n",
      "        pay_normal    prod_code     prod_limit   new_balance  highest_balance  \n",
      "count  8250.000000  8250.000000    2132.000000  8.250000e+03     7.841000e+03  \n",
      "mean     14.526667     8.232000   85789.702205  1.054042e+05     2.192027e+05  \n",
      "std      12.053627     3.533055   74345.828184  1.887704e+06     2.814536e+06  \n",
      "min       0.000000     0.000000       1.100000 -4.030320e+04     5.010000e+02  \n",
      "25%       4.000000     6.000000   37400.000000  0.000000e+00     2.345300e+04  \n",
      "50%      11.000000    10.000000   68200.000000  0.000000e+00     4.404700e+04  \n",
      "75%      25.000000    10.000000  112200.000000  2.494800e+04     1.005000e+05  \n",
      "max      36.000000    27.000000  660000.000000  1.632120e+08     1.800005e+08  \n"
     ]
    },
    {
     "ename": "ValueError",
     "evalue": "Could not interpret input 'label'",
     "output_type": "error",
     "traceback": [
      "\u001b[0;31m---------------------------------------------------------------------------\u001b[0m",
      "\u001b[0;31mValueError\u001b[0m                                Traceback (most recent call last)",
      "Cell \u001b[0;32mIn[7], line 21\u001b[0m\n\u001b[1;32m     18\u001b[0m \u001b[38;5;28mprint\u001b[39m(payment_data\u001b[38;5;241m.\u001b[39mdescribe())\n\u001b[1;32m     20\u001b[0m \u001b[38;5;66;03m# Explore target variable distribution\u001b[39;00m\n\u001b[0;32m---> 21\u001b[0m sns\u001b[38;5;241m.\u001b[39mcountplot(x\u001b[38;5;241m=\u001b[39m\u001b[38;5;124m'\u001b[39m\u001b[38;5;124mlabel\u001b[39m\u001b[38;5;124m'\u001b[39m, data\u001b[38;5;241m=\u001b[39mpayment_data)\n\u001b[1;32m     22\u001b[0m plt\u001b[38;5;241m.\u001b[39mtitle(\u001b[38;5;124m'\u001b[39m\u001b[38;5;124mDistribution of High and Low Credit Risk\u001b[39m\u001b[38;5;124m'\u001b[39m)\n\u001b[1;32m     23\u001b[0m plt\u001b[38;5;241m.\u001b[39mshow()\n",
      "File \u001b[0;32m~/Documents/anaconda3/lib/python3.11/site-packages/seaborn/categorical.py:2943\u001b[0m, in \u001b[0;36mcountplot\u001b[0;34m(data, x, y, hue, order, hue_order, orient, color, palette, saturation, width, dodge, ax, **kwargs)\u001b[0m\n\u001b[1;32m   2940\u001b[0m \u001b[38;5;28;01melif\u001b[39;00m x \u001b[38;5;129;01mis\u001b[39;00m \u001b[38;5;129;01mnot\u001b[39;00m \u001b[38;5;28;01mNone\u001b[39;00m \u001b[38;5;129;01mand\u001b[39;00m y \u001b[38;5;129;01mis\u001b[39;00m \u001b[38;5;129;01mnot\u001b[39;00m \u001b[38;5;28;01mNone\u001b[39;00m:\n\u001b[1;32m   2941\u001b[0m     \u001b[38;5;28;01mraise\u001b[39;00m \u001b[38;5;167;01mValueError\u001b[39;00m(\u001b[38;5;124m\"\u001b[39m\u001b[38;5;124mCannot pass values for both `x` and `y`\u001b[39m\u001b[38;5;124m\"\u001b[39m)\n\u001b[0;32m-> 2943\u001b[0m plotter \u001b[38;5;241m=\u001b[39m _CountPlotter(\n\u001b[1;32m   2944\u001b[0m     x, y, hue, data, order, hue_order,\n\u001b[1;32m   2945\u001b[0m     estimator, errorbar, n_boot, units, seed,\n\u001b[1;32m   2946\u001b[0m     orient, color, palette, saturation,\n\u001b[1;32m   2947\u001b[0m     width, errcolor, errwidth, capsize, dodge\n\u001b[1;32m   2948\u001b[0m )\n\u001b[1;32m   2950\u001b[0m plotter\u001b[38;5;241m.\u001b[39mvalue_label \u001b[38;5;241m=\u001b[39m \u001b[38;5;124m\"\u001b[39m\u001b[38;5;124mcount\u001b[39m\u001b[38;5;124m\"\u001b[39m\n\u001b[1;32m   2952\u001b[0m \u001b[38;5;28;01mif\u001b[39;00m ax \u001b[38;5;129;01mis\u001b[39;00m \u001b[38;5;28;01mNone\u001b[39;00m:\n",
      "File \u001b[0;32m~/Documents/anaconda3/lib/python3.11/site-packages/seaborn/categorical.py:1530\u001b[0m, in \u001b[0;36m_BarPlotter.__init__\u001b[0;34m(self, x, y, hue, data, order, hue_order, estimator, errorbar, n_boot, units, seed, orient, color, palette, saturation, width, errcolor, errwidth, capsize, dodge)\u001b[0m\n\u001b[1;32m   1525\u001b[0m \u001b[38;5;28;01mdef\u001b[39;00m \u001b[38;5;21m__init__\u001b[39m(\u001b[38;5;28mself\u001b[39m, x, y, hue, data, order, hue_order,\n\u001b[1;32m   1526\u001b[0m              estimator, errorbar, n_boot, units, seed,\n\u001b[1;32m   1527\u001b[0m              orient, color, palette, saturation, width,\n\u001b[1;32m   1528\u001b[0m              errcolor, errwidth, capsize, dodge):\n\u001b[1;32m   1529\u001b[0m \u001b[38;5;250m    \u001b[39m\u001b[38;5;124;03m\"\"\"Initialize the plotter.\"\"\"\u001b[39;00m\n\u001b[0;32m-> 1530\u001b[0m     \u001b[38;5;28mself\u001b[39m\u001b[38;5;241m.\u001b[39mestablish_variables(x, y, hue, data, orient,\n\u001b[1;32m   1531\u001b[0m                              order, hue_order, units)\n\u001b[1;32m   1532\u001b[0m     \u001b[38;5;28mself\u001b[39m\u001b[38;5;241m.\u001b[39mestablish_colors(color, palette, saturation)\n\u001b[1;32m   1533\u001b[0m     \u001b[38;5;28mself\u001b[39m\u001b[38;5;241m.\u001b[39mestimate_statistic(estimator, errorbar, n_boot, seed)\n",
      "File \u001b[0;32m~/Documents/anaconda3/lib/python3.11/site-packages/seaborn/categorical.py:541\u001b[0m, in \u001b[0;36m_CategoricalPlotter.establish_variables\u001b[0;34m(self, x, y, hue, data, orient, order, hue_order, units)\u001b[0m\n\u001b[1;32m    539\u001b[0m     \u001b[38;5;28;01mif\u001b[39;00m \u001b[38;5;28misinstance\u001b[39m(var, \u001b[38;5;28mstr\u001b[39m):\n\u001b[1;32m    540\u001b[0m         err \u001b[38;5;241m=\u001b[39m \u001b[38;5;124mf\u001b[39m\u001b[38;5;124m\"\u001b[39m\u001b[38;5;124mCould not interpret input \u001b[39m\u001b[38;5;124m'\u001b[39m\u001b[38;5;132;01m{\u001b[39;00mvar\u001b[38;5;132;01m}\u001b[39;00m\u001b[38;5;124m'\u001b[39m\u001b[38;5;124m\"\u001b[39m\n\u001b[0;32m--> 541\u001b[0m         \u001b[38;5;28;01mraise\u001b[39;00m \u001b[38;5;167;01mValueError\u001b[39;00m(err)\n\u001b[1;32m    543\u001b[0m \u001b[38;5;66;03m# Figure out the plotting orientation\u001b[39;00m\n\u001b[1;32m    544\u001b[0m orient \u001b[38;5;241m=\u001b[39m infer_orient(\n\u001b[1;32m    545\u001b[0m     x, y, orient, require_numeric\u001b[38;5;241m=\u001b[39m\u001b[38;5;28mself\u001b[39m\u001b[38;5;241m.\u001b[39mrequire_numeric\n\u001b[1;32m    546\u001b[0m )\n",
      "\u001b[0;31mValueError\u001b[0m: Could not interpret input 'label'"
     ]
    }
   ],
   "source": [
    "import pandas as pd\n",
    "import matplotlib.pyplot as plt\n",
    "import seaborn as sns\n",
    "\n",
    "# Load the data\n",
    "payment_data = pd.read_csv('payment_data.csv')\n",
    "customer_data = pd.read_csv('customer_data.csv')\n",
    "\n",
    "# Display basic information about the datasets\n",
    "print(\"Payment Data:\")\n",
    "print(payment_data.info())\n",
    "\n",
    "print(\"\\nCustomer Data:\")\n",
    "print(customer_data.info())\n",
    "\n",
    "# Summary statistics\n",
    "print(\"\\nPayment Data Summary Statistics:\")\n",
    "print(payment_data.describe())\n",
    "\n",
    "# Explore target variable distribution\n",
    "sns.countplot(x='label', data=payment_data)\n",
    "plt.title('Distribution of High and Low Credit Risk')\n",
    "plt.show()\n",
    "\n",
    "# Correlation matrix for numerical features\n",
    "correlation_matrix = payment_data.corr()\n",
    "sns.heatmap(correlation_matrix, annot=True, cmap='coolwarm', fmt=\".2f\")\n",
    "plt.title('Correlation Matrix')\n",
    "plt.show()\n",
    "\n",
    "# Distribution of numerical features\n",
    "payment_data.hist(bins=20, figsize=(12, 10))\n",
    "plt.suptitle('Distribution of Numerical Features', x=0.5, y=1.02, ha='center', fontsize='large')\n",
    "plt.show()\n",
    "\n",
    "# Explore relationships between features\n",
    "sns.pairplot(payment_data, hue='label', diag_kind='kde')\n",
    "plt.suptitle('Pairplot of Numerical Features by Credit Risk', y=1.02, fontsize='large')\n",
    "plt.show()\n",
    "\n",
    "# Explore categorical features\n",
    "for feature in ['fea_1', 'fea_3', 'fea_5', 'fea_6', 'fea_7', 'fea_9']:\n",
    "    sns.countplot(x=feature, data=customer_data, hue='label')\n",
    "    plt.title(f'Distribution of {feature} by Credit Risk')\n",
    "    plt.show()\n"
   ]
  },
  {
   "cell_type": "code",
   "execution_count": 8,
   "id": "2bb368a9",
   "metadata": {},
   "outputs": [
    {
     "name": "stdout",
     "output_type": "stream",
     "text": [
      "Payment Data:\n",
      "<class 'pandas.core.frame.DataFrame'>\n",
      "RangeIndex: 8250 entries, 0 to 8249\n",
      "Data columns (total 12 columns):\n",
      " #   Column           Non-Null Count  Dtype  \n",
      "---  ------           --------------  -----  \n",
      " 0   id               8250 non-null   int64  \n",
      " 1   OVD_t1           8250 non-null   int64  \n",
      " 2   OVD_t2           8250 non-null   int64  \n",
      " 3   OVD_t3           8250 non-null   int64  \n",
      " 4   OVD_sum          8250 non-null   int64  \n",
      " 5   pay_normal       8250 non-null   int64  \n",
      " 6   prod_code        8250 non-null   int64  \n",
      " 7   prod_limit       2132 non-null   float64\n",
      " 8   update_date      8224 non-null   object \n",
      " 9   new_balance      8250 non-null   float64\n",
      " 10  highest_balance  7841 non-null   float64\n",
      " 11  report_date      7136 non-null   object \n",
      "dtypes: float64(3), int64(7), object(2)\n",
      "memory usage: 773.6+ KB\n",
      "None\n",
      "\n",
      "Customer Data:\n",
      "<class 'pandas.core.frame.DataFrame'>\n",
      "RangeIndex: 1125 entries, 0 to 1124\n",
      "Data columns (total 13 columns):\n",
      " #   Column  Non-Null Count  Dtype  \n",
      "---  ------  --------------  -----  \n",
      " 0   label   1125 non-null   int64  \n",
      " 1   id      1125 non-null   int64  \n",
      " 2   fea_1   1125 non-null   int64  \n",
      " 3   fea_2   976 non-null    float64\n",
      " 4   fea_3   1125 non-null   int64  \n",
      " 5   fea_4   1125 non-null   float64\n",
      " 6   fea_5   1125 non-null   int64  \n",
      " 7   fea_6   1125 non-null   int64  \n",
      " 8   fea_7   1125 non-null   int64  \n",
      " 9   fea_8   1125 non-null   int64  \n",
      " 10  fea_9   1125 non-null   int64  \n",
      " 11  fea_10  1125 non-null   int64  \n",
      " 12  fea_11  1125 non-null   float64\n",
      "dtypes: float64(3), int64(10)\n",
      "memory usage: 114.4 KB\n",
      "None\n",
      "\n",
      "Summary Statistics - Payment Data:\n",
      "                 id       OVD_t1       OVD_t2       OVD_t3       OVD_sum  \\\n",
      "count  8.250000e+03  8250.000000  8250.000000  8250.000000   8250.000000   \n",
      "mean   5.782173e+07     0.249091     0.127152     0.369212    187.681697   \n",
      "std    1.822724e+06     1.250197     0.860046     2.900320   1804.232570   \n",
      "min    5.498235e+07     0.000000     0.000000     0.000000      0.000000   \n",
      "25%    5.499050e+07     0.000000     0.000000     0.000000      0.000000   \n",
      "50%    5.898905e+07     0.000000     0.000000     0.000000      0.000000   \n",
      "75%    5.899655e+07     0.000000     0.000000     0.000000      0.000000   \n",
      "max    5.900624e+07    34.000000    34.000000    35.000000  31500.000000   \n",
      "\n",
      "        pay_normal    prod_code     prod_limit   new_balance  highest_balance  \n",
      "count  8250.000000  8250.000000    2132.000000  8.250000e+03     7.841000e+03  \n",
      "mean     14.526667     8.232000   85789.702205  1.054042e+05     2.192027e+05  \n",
      "std      12.053627     3.533055   74345.828184  1.887704e+06     2.814536e+06  \n",
      "min       0.000000     0.000000       1.100000 -4.030320e+04     5.010000e+02  \n",
      "25%       4.000000     6.000000   37400.000000  0.000000e+00     2.345300e+04  \n",
      "50%      11.000000    10.000000   68200.000000  0.000000e+00     4.404700e+04  \n",
      "75%      25.000000    10.000000  112200.000000  2.494800e+04     1.005000e+05  \n",
      "max      36.000000    27.000000  660000.000000  1.632120e+08     1.800005e+08  \n",
      "\n",
      "Summary Statistics - Customer Data:\n",
      "             label            id        fea_1        fea_2        fea_3  \\\n",
      "count  1125.000000  1.125000e+03  1125.000000   976.000000  1125.000000   \n",
      "mean      0.200000  5.783677e+07     5.482667  1283.911373     2.333333   \n",
      "std       0.400178  1.817150e+06     1.383338    51.764022     0.878773   \n",
      "min       0.000000  5.498235e+07     1.000000  1116.500000     1.000000   \n",
      "25%       0.000000  5.499050e+07     4.000000  1244.000000     1.000000   \n",
      "50%       0.000000  5.898975e+07     5.000000  1281.500000     3.000000   \n",
      "75%       0.000000  5.899799e+07     7.000000  1314.500000     3.000000   \n",
      "max       1.000000  5.900624e+07     7.000000  1481.000000     3.000000   \n",
      "\n",
      "              fea_4        fea_5        fea_6        fea_7        fea_8  \\\n",
      "count  1.125000e+03  1125.000000  1125.000000  1125.000000  1125.000000   \n",
      "mean   1.208836e+05     1.928889    10.872000     4.832889   100.802667   \n",
      "std    8.844523e+04     0.257125     2.676437     2.971182    11.988955   \n",
      "min    1.500000e+04     1.000000     3.000000    -1.000000    64.000000   \n",
      "25%    7.200000e+04     2.000000     8.000000     5.000000    90.000000   \n",
      "50%    1.020000e+05     2.000000    11.000000     5.000000   105.000000   \n",
      "75%    1.390000e+05     2.000000    11.000000     5.000000   111.000000   \n",
      "max    1.200000e+06     2.000000    16.000000    10.000000   115.000000   \n",
      "\n",
      "             fea_9         fea_10       fea_11  \n",
      "count  1125.000000    1125.000000  1125.000000  \n",
      "mean      4.195556  164618.495111   134.999004  \n",
      "std       0.855679  152520.488281   112.616798  \n",
      "min       1.000000   60000.000000     1.000000  \n",
      "25%       3.000000   60044.000000     1.000000  \n",
      "50%       4.000000   72000.000000   173.205081  \n",
      "75%       5.000000  151307.000000   202.484567  \n",
      "max       5.000000  650070.000000   707.106781  \n"
     ]
    },
    {
     "ename": "ValueError",
     "evalue": "Could not interpret input 'label'",
     "output_type": "error",
     "traceback": [
      "\u001b[0;31m---------------------------------------------------------------------------\u001b[0m",
      "\u001b[0;31mValueError\u001b[0m                                Traceback (most recent call last)",
      "Cell \u001b[0;32mIn[8], line 25\u001b[0m\n\u001b[1;32m     23\u001b[0m \u001b[38;5;66;03m# Explore target variable distribution\u001b[39;00m\n\u001b[1;32m     24\u001b[0m target_variable \u001b[38;5;241m=\u001b[39m \u001b[38;5;124m'\u001b[39m\u001b[38;5;124mlabel\u001b[39m\u001b[38;5;124m'\u001b[39m  \u001b[38;5;66;03m# Replace with the actual name of your target variable column\u001b[39;00m\n\u001b[0;32m---> 25\u001b[0m sns\u001b[38;5;241m.\u001b[39mcountplot(x\u001b[38;5;241m=\u001b[39mtarget_variable, data\u001b[38;5;241m=\u001b[39mpayment_data)\n\u001b[1;32m     26\u001b[0m plt\u001b[38;5;241m.\u001b[39mtitle(\u001b[38;5;124m'\u001b[39m\u001b[38;5;124mDistribution of High and Low Credit Risk\u001b[39m\u001b[38;5;124m'\u001b[39m)\n\u001b[1;32m     27\u001b[0m plt\u001b[38;5;241m.\u001b[39mshow()\n",
      "File \u001b[0;32m~/Documents/anaconda3/lib/python3.11/site-packages/seaborn/categorical.py:2943\u001b[0m, in \u001b[0;36mcountplot\u001b[0;34m(data, x, y, hue, order, hue_order, orient, color, palette, saturation, width, dodge, ax, **kwargs)\u001b[0m\n\u001b[1;32m   2940\u001b[0m \u001b[38;5;28;01melif\u001b[39;00m x \u001b[38;5;129;01mis\u001b[39;00m \u001b[38;5;129;01mnot\u001b[39;00m \u001b[38;5;28;01mNone\u001b[39;00m \u001b[38;5;129;01mand\u001b[39;00m y \u001b[38;5;129;01mis\u001b[39;00m \u001b[38;5;129;01mnot\u001b[39;00m \u001b[38;5;28;01mNone\u001b[39;00m:\n\u001b[1;32m   2941\u001b[0m     \u001b[38;5;28;01mraise\u001b[39;00m \u001b[38;5;167;01mValueError\u001b[39;00m(\u001b[38;5;124m\"\u001b[39m\u001b[38;5;124mCannot pass values for both `x` and `y`\u001b[39m\u001b[38;5;124m\"\u001b[39m)\n\u001b[0;32m-> 2943\u001b[0m plotter \u001b[38;5;241m=\u001b[39m _CountPlotter(\n\u001b[1;32m   2944\u001b[0m     x, y, hue, data, order, hue_order,\n\u001b[1;32m   2945\u001b[0m     estimator, errorbar, n_boot, units, seed,\n\u001b[1;32m   2946\u001b[0m     orient, color, palette, saturation,\n\u001b[1;32m   2947\u001b[0m     width, errcolor, errwidth, capsize, dodge\n\u001b[1;32m   2948\u001b[0m )\n\u001b[1;32m   2950\u001b[0m plotter\u001b[38;5;241m.\u001b[39mvalue_label \u001b[38;5;241m=\u001b[39m \u001b[38;5;124m\"\u001b[39m\u001b[38;5;124mcount\u001b[39m\u001b[38;5;124m\"\u001b[39m\n\u001b[1;32m   2952\u001b[0m \u001b[38;5;28;01mif\u001b[39;00m ax \u001b[38;5;129;01mis\u001b[39;00m \u001b[38;5;28;01mNone\u001b[39;00m:\n",
      "File \u001b[0;32m~/Documents/anaconda3/lib/python3.11/site-packages/seaborn/categorical.py:1530\u001b[0m, in \u001b[0;36m_BarPlotter.__init__\u001b[0;34m(self, x, y, hue, data, order, hue_order, estimator, errorbar, n_boot, units, seed, orient, color, palette, saturation, width, errcolor, errwidth, capsize, dodge)\u001b[0m\n\u001b[1;32m   1525\u001b[0m \u001b[38;5;28;01mdef\u001b[39;00m \u001b[38;5;21m__init__\u001b[39m(\u001b[38;5;28mself\u001b[39m, x, y, hue, data, order, hue_order,\n\u001b[1;32m   1526\u001b[0m              estimator, errorbar, n_boot, units, seed,\n\u001b[1;32m   1527\u001b[0m              orient, color, palette, saturation, width,\n\u001b[1;32m   1528\u001b[0m              errcolor, errwidth, capsize, dodge):\n\u001b[1;32m   1529\u001b[0m \u001b[38;5;250m    \u001b[39m\u001b[38;5;124;03m\"\"\"Initialize the plotter.\"\"\"\u001b[39;00m\n\u001b[0;32m-> 1530\u001b[0m     \u001b[38;5;28mself\u001b[39m\u001b[38;5;241m.\u001b[39mestablish_variables(x, y, hue, data, orient,\n\u001b[1;32m   1531\u001b[0m                              order, hue_order, units)\n\u001b[1;32m   1532\u001b[0m     \u001b[38;5;28mself\u001b[39m\u001b[38;5;241m.\u001b[39mestablish_colors(color, palette, saturation)\n\u001b[1;32m   1533\u001b[0m     \u001b[38;5;28mself\u001b[39m\u001b[38;5;241m.\u001b[39mestimate_statistic(estimator, errorbar, n_boot, seed)\n",
      "File \u001b[0;32m~/Documents/anaconda3/lib/python3.11/site-packages/seaborn/categorical.py:541\u001b[0m, in \u001b[0;36m_CategoricalPlotter.establish_variables\u001b[0;34m(self, x, y, hue, data, orient, order, hue_order, units)\u001b[0m\n\u001b[1;32m    539\u001b[0m     \u001b[38;5;28;01mif\u001b[39;00m \u001b[38;5;28misinstance\u001b[39m(var, \u001b[38;5;28mstr\u001b[39m):\n\u001b[1;32m    540\u001b[0m         err \u001b[38;5;241m=\u001b[39m \u001b[38;5;124mf\u001b[39m\u001b[38;5;124m\"\u001b[39m\u001b[38;5;124mCould not interpret input \u001b[39m\u001b[38;5;124m'\u001b[39m\u001b[38;5;132;01m{\u001b[39;00mvar\u001b[38;5;132;01m}\u001b[39;00m\u001b[38;5;124m'\u001b[39m\u001b[38;5;124m\"\u001b[39m\n\u001b[0;32m--> 541\u001b[0m         \u001b[38;5;28;01mraise\u001b[39;00m \u001b[38;5;167;01mValueError\u001b[39;00m(err)\n\u001b[1;32m    543\u001b[0m \u001b[38;5;66;03m# Figure out the plotting orientation\u001b[39;00m\n\u001b[1;32m    544\u001b[0m orient \u001b[38;5;241m=\u001b[39m infer_orient(\n\u001b[1;32m    545\u001b[0m     x, y, orient, require_numeric\u001b[38;5;241m=\u001b[39m\u001b[38;5;28mself\u001b[39m\u001b[38;5;241m.\u001b[39mrequire_numeric\n\u001b[1;32m    546\u001b[0m )\n",
      "\u001b[0;31mValueError\u001b[0m: Could not interpret input 'label'"
     ]
    }
   ],
   "source": [
    "import pandas as pd\n",
    "import matplotlib.pyplot as plt\n",
    "import seaborn as sns\n",
    "\n",
    "# Load data\n",
    "payment_data = pd.read_csv('payment_data.csv')\n",
    "customer_data = pd.read_csv('customer_data.csv')\n",
    "\n",
    "# Display basic information about the datasets\n",
    "print(\"Payment Data:\")\n",
    "print(payment_data.info())\n",
    "\n",
    "print(\"\\nCustomer Data:\")\n",
    "print(customer_data.info())\n",
    "\n",
    "# Display summary statistics\n",
    "print(\"\\nSummary Statistics - Payment Data:\")\n",
    "print(payment_data.describe())\n",
    "\n",
    "print(\"\\nSummary Statistics - Customer Data:\")\n",
    "print(customer_data.describe())\n",
    "\n",
    "# Explore target variable distribution\n",
    "target_variable = 'label'  # Replace with the actual name of your target variable column\n",
    "sns.countplot(x=target_variable, data=payment_data)\n",
    "plt.title('Distribution of High and Low Credit Risk')\n",
    "plt.show()\n",
    "\n",
    "# Explore relationships between features\n",
    "# For example, you can use a pairplot to visualize relationships between numerical features\n",
    "sns.pairplot(payment_data, hue=target_variable)\n",
    "plt.suptitle('Pairplot of Numerical Features by Credit Risk', y=1.02)\n",
    "plt.show()\n",
    "\n",
    "# You can also explore relationships between categorical features and the target variable\n",
    "# For example, using a bar plot\n",
    "categorical_features = ['fea_1', 'fea_3', 'fea_5', 'fea_6', 'fea_7', 'fea_9']\n",
    "for feature in categorical_features:\n",
    "    sns.countplot(x=feature, hue=target_variable, data=customer_data)\n",
    "    plt.title(f'Distribution of {feature} by Credit Risk')\n",
    "    plt.show()\n"
   ]
  },
  {
   "cell_type": "code",
   "execution_count": 10,
   "id": "c4e789dc",
   "metadata": {},
   "outputs": [
    {
     "data": {
      "image/png": "[encoded data removed]",
      "text/plain": [
       "<Figure size 640x480 with 1 Axes>"
      ]
     },
     "metadata": {},
     "output_type": "display_data"
    }
   ],
   "source": [
    "# Explore target variable distribution\n",
    "target_variable = 'pay_normal'  # Replace with the actual name of your target variable column\n",
    "sns.countplot(x=target_variable, data=payment_data)\n",
    "plt.title('Distribution of High and Low Credit Risk')\n",
    "plt.show()\n"
   ]
  },
  {
   "cell_type": "code",
   "execution_count": 11,
   "id": "a1d4c66f",
   "metadata": {},
   "outputs": [],
   "source": [
    "payment_data['total_overdue_occurrences'] = payment_data['OVD_t1'] + payment_data['OVD_t2'] + payment_data['OVD_t3']\n"
   ]
  },
  {
   "cell_type": "code",
   "execution_count": 12,
   "id": "77d21e30",
   "metadata": {},
   "outputs": [],
   "source": [
    "payment_data['avg_overdue_days'] = payment_data['OVD_sum'] / (payment_data['total_overdue_occurrences'] + 1)  # Adding 1 to avoid division by zero\n"
   ]
  },
  {
   "cell_type": "code",
   "execution_count": 13,
   "id": "6cc29a14",
   "metadata": {},
   "outputs": [],
   "source": [
    "payment_data['payment_ratio'] = payment_data['pay_normal'] / (payment_data['total_overdue_occurrences'] + payment_data['pay_normal'])\n"
   ]
  },
  {
   "cell_type": "code",
   "execution_count": 14,
   "id": "def5433f",
   "metadata": {},
   "outputs": [],
   "source": [
    "payment_data['balance_utilization'] = payment_data['new_balance'] / payment_data['prod_limit']\n"
   ]
  },
  {
   "cell_type": "code",
   "execution_count": 15,
   "id": "5fb9f098",
   "metadata": {},
   "outputs": [
    {
     "name": "stderr",
     "output_type": "stream",
     "text": [
      "Parsing dates in %d/%m/%Y format when dayfirst=False (the default) was specified. Pass `dayfirst=True` or specify a format to silence this warning.\n"
     ]
    },
    {
     "ename": "ValueError",
     "evalue": "time data \"31/05/2016\" doesn't match format \"%m/%d/%Y\", at position 31. You might want to try:\n    - passing `format` if your strings have a consistent format;\n    - passing `format='ISO8601'` if your strings are all ISO8601 but not necessarily in exactly the same format;\n    - passing `format='mixed'`, and the format will be inferred for each element individually. You might want to use `dayfirst` alongside this.",
     "output_type": "error",
     "traceback": [
      "\u001b[0;31m---------------------------------------------------------------------------\u001b[0m",
      "\u001b[0;31mValueError\u001b[0m                                Traceback (most recent call last)",
      "Cell \u001b[0;32mIn[15], line 1\u001b[0m\n\u001b[0;32m----> 1\u001b[0m payment_data[\u001b[38;5;124m'\u001b[39m\u001b[38;5;124mdays_since_last_payment\u001b[39m\u001b[38;5;124m'\u001b[39m] \u001b[38;5;241m=\u001b[39m (pd\u001b[38;5;241m.\u001b[39mto_datetime(payment_data[\u001b[38;5;124m'\u001b[39m\u001b[38;5;124mreport_date\u001b[39m\u001b[38;5;124m'\u001b[39m]) \u001b[38;5;241m-\u001b[39m pd\u001b[38;5;241m.\u001b[39mto_datetime(payment_data[\u001b[38;5;124m'\u001b[39m\u001b[38;5;124mupdate_date\u001b[39m\u001b[38;5;124m'\u001b[39m]))\u001b[38;5;241m.\u001b[39mdt\u001b[38;5;241m.\u001b[39mdays\n",
      "File \u001b[0;32m~/Documents/anaconda3/lib/python3.11/site-packages/pandas/core/tools/datetimes.py:1046\u001b[0m, in \u001b[0;36mto_datetime\u001b[0;34m(arg, errors, dayfirst, yearfirst, utc, format, exact, unit, infer_datetime_format, origin, cache)\u001b[0m\n\u001b[1;32m   1044\u001b[0m             result \u001b[38;5;241m=\u001b[39m arg\u001b[38;5;241m.\u001b[39mtz_localize(\u001b[38;5;124m\"\u001b[39m\u001b[38;5;124mutc\u001b[39m\u001b[38;5;124m\"\u001b[39m)\n\u001b[1;32m   1045\u001b[0m \u001b[38;5;28;01melif\u001b[39;00m \u001b[38;5;28misinstance\u001b[39m(arg, ABCSeries):\n\u001b[0;32m-> 1046\u001b[0m     cache_array \u001b[38;5;241m=\u001b[39m _maybe_cache(arg, \u001b[38;5;28mformat\u001b[39m, cache, convert_listlike)\n\u001b[1;32m   1047\u001b[0m     \u001b[38;5;28;01mif\u001b[39;00m \u001b[38;5;129;01mnot\u001b[39;00m cache_array\u001b[38;5;241m.\u001b[39mempty:\n\u001b[1;32m   1048\u001b[0m         result \u001b[38;5;241m=\u001b[39m arg\u001b[38;5;241m.\u001b[39mmap(cache_array)\n",
      "File \u001b[0;32m~/Documents/anaconda3/lib/python3.11/site-packages/pandas/core/tools/datetimes.py:250\u001b[0m, in \u001b[0;36m_maybe_cache\u001b[0;34m(arg, format, cache, convert_listlike)\u001b[0m\n\u001b[1;32m    248\u001b[0m unique_dates \u001b[38;5;241m=\u001b[39m unique(arg)\n\u001b[1;32m    249\u001b[0m \u001b[38;5;28;01mif\u001b[39;00m \u001b[38;5;28mlen\u001b[39m(unique_dates) \u001b[38;5;241m<\u001b[39m \u001b[38;5;28mlen\u001b[39m(arg):\n\u001b[0;32m--> 250\u001b[0m     cache_dates \u001b[38;5;241m=\u001b[39m convert_listlike(unique_dates, \u001b[38;5;28mformat\u001b[39m)\n\u001b[1;32m    251\u001b[0m     \u001b[38;5;66;03m# GH#45319\u001b[39;00m\n\u001b[1;32m    252\u001b[0m     \u001b[38;5;28;01mtry\u001b[39;00m:\n",
      "File \u001b[0;32m~/Documents/anaconda3/lib/python3.11/site-packages/pandas/core/tools/datetimes.py:453\u001b[0m, in \u001b[0;36m_convert_listlike_datetimes\u001b[0;34m(arg, format, name, utc, unit, errors, dayfirst, yearfirst, exact)\u001b[0m\n\u001b[1;32m    451\u001b[0m \u001b[38;5;66;03m# `format` could be inferred, or user didn't ask for mixed-format parsing.\u001b[39;00m\n\u001b[1;32m    452\u001b[0m \u001b[38;5;28;01mif\u001b[39;00m \u001b[38;5;28mformat\u001b[39m \u001b[38;5;129;01mis\u001b[39;00m \u001b[38;5;129;01mnot\u001b[39;00m \u001b[38;5;28;01mNone\u001b[39;00m \u001b[38;5;129;01mand\u001b[39;00m \u001b[38;5;28mformat\u001b[39m \u001b[38;5;241m!=\u001b[39m \u001b[38;5;124m\"\u001b[39m\u001b[38;5;124mmixed\u001b[39m\u001b[38;5;124m\"\u001b[39m:\n\u001b[0;32m--> 453\u001b[0m     \u001b[38;5;28;01mreturn\u001b[39;00m _array_strptime_with_fallback(arg, name, utc, \u001b[38;5;28mformat\u001b[39m, exact, errors)\n\u001b[1;32m    455\u001b[0m result, tz_parsed \u001b[38;5;241m=\u001b[39m objects_to_datetime64ns(\n\u001b[1;32m    456\u001b[0m     arg,\n\u001b[1;32m    457\u001b[0m     dayfirst\u001b[38;5;241m=\u001b[39mdayfirst,\n\u001b[0;32m   (...)\u001b[0m\n\u001b[1;32m    461\u001b[0m     allow_object\u001b[38;5;241m=\u001b[39m\u001b[38;5;28;01mTrue\u001b[39;00m,\n\u001b[1;32m    462\u001b[0m )\n\u001b[1;32m    464\u001b[0m \u001b[38;5;28;01mif\u001b[39;00m tz_parsed \u001b[38;5;129;01mis\u001b[39;00m \u001b[38;5;129;01mnot\u001b[39;00m \u001b[38;5;28;01mNone\u001b[39;00m:\n\u001b[1;32m    465\u001b[0m     \u001b[38;5;66;03m# We can take a shortcut since the datetime64 numpy array\u001b[39;00m\n\u001b[1;32m    466\u001b[0m     \u001b[38;5;66;03m# is in UTC\u001b[39;00m\n",
      "File \u001b[0;32m~/Documents/anaconda3/lib/python3.11/site-packages/pandas/core/tools/datetimes.py:484\u001b[0m, in \u001b[0;36m_array_strptime_with_fallback\u001b[0;34m(arg, name, utc, fmt, exact, errors)\u001b[0m\n\u001b[1;32m    473\u001b[0m \u001b[38;5;28;01mdef\u001b[39;00m \u001b[38;5;21m_array_strptime_with_fallback\u001b[39m(\n\u001b[1;32m    474\u001b[0m     arg,\n\u001b[1;32m    475\u001b[0m     name,\n\u001b[0;32m   (...)\u001b[0m\n\u001b[1;32m    479\u001b[0m     errors: \u001b[38;5;28mstr\u001b[39m,\n\u001b[1;32m    480\u001b[0m ) \u001b[38;5;241m-\u001b[39m\u001b[38;5;241m>\u001b[39m Index:\n\u001b[1;32m    481\u001b[0m \u001b[38;5;250m    \u001b[39m\u001b[38;5;124;03m\"\"\"\u001b[39;00m\n\u001b[1;32m    482\u001b[0m \u001b[38;5;124;03m    Call array_strptime, with fallback behavior depending on 'errors'.\u001b[39;00m\n\u001b[1;32m    483\u001b[0m \u001b[38;5;124;03m    \"\"\"\u001b[39;00m\n\u001b[0;32m--> 484\u001b[0m     result, timezones \u001b[38;5;241m=\u001b[39m array_strptime(arg, fmt, exact\u001b[38;5;241m=\u001b[39mexact, errors\u001b[38;5;241m=\u001b[39merrors, utc\u001b[38;5;241m=\u001b[39mutc)\n\u001b[1;32m    485\u001b[0m     \u001b[38;5;28;01mif\u001b[39;00m \u001b[38;5;28many\u001b[39m(tz \u001b[38;5;129;01mis\u001b[39;00m \u001b[38;5;129;01mnot\u001b[39;00m \u001b[38;5;28;01mNone\u001b[39;00m \u001b[38;5;28;01mfor\u001b[39;00m tz \u001b[38;5;129;01min\u001b[39;00m timezones):\n\u001b[1;32m    486\u001b[0m         \u001b[38;5;28;01mreturn\u001b[39;00m _return_parsed_timezone_results(result, timezones, utc, name)\n",
      "File \u001b[0;32m~/Documents/anaconda3/lib/python3.11/site-packages/pandas/_libs/tslibs/strptime.pyx:530\u001b[0m, in \u001b[0;36mpandas._libs.tslibs.strptime.array_strptime\u001b[0;34m()\u001b[0m\n",
      "File \u001b[0;32m~/Documents/anaconda3/lib/python3.11/site-packages/pandas/_libs/tslibs/strptime.pyx:351\u001b[0m, in \u001b[0;36mpandas._libs.tslibs.strptime.array_strptime\u001b[0;34m()\u001b[0m\n",
      "\u001b[0;31mValueError\u001b[0m: time data \"31/05/2016\" doesn't match format \"%m/%d/%Y\", at position 31. You might want to try:\n    - passing `format` if your strings have a consistent format;\n    - passing `format='ISO8601'` if your strings are all ISO8601 but not necessarily in exactly the same format;\n    - passing `format='mixed'`, and the format will be inferred for each element individually. You might want to use `dayfirst` alongside this."
     ]
    }
   ],
   "source": [
    "payment_data['days_since_last_payment'] = (pd.to_datetime(payment_data['report_date']) - pd.to_datetime(payment_data['update_date'])).dt.days\n"
   ]
  },
  {
   "cell_type": "code",
   "execution_count": 16,
   "id": "4895ce3e",
   "metadata": {},
   "outputs": [],
   "source": [
    "payment_data['days_since_last_payment'] = (pd.to_datetime(payment_data['report_date'], format='%d/%m/%Y') - pd.to_datetime(payment_data['update_date'], format='%d/%m/%Y')).dt.days\n"
   ]
  },
  {
   "cell_type": "code",
   "execution_count": 19,
   "id": "2a2e471a",
   "metadata": {},
   "outputs": [
    {
     "name": "stderr",
     "output_type": "stream",
     "text": [
      "The argument 'infer_datetime_format' is deprecated and will be removed in a future version. A strict version of it is now the default, see https://pandas.pydata.org/pdeps/0004-consistent-to-datetime-parsing.html. You can safely remove this argument.\n",
      "Parsing dates in %d/%m/%Y format when dayfirst=False (the default) was specified. Pass `dayfirst=True` or specify a format to silence this warning.\n",
      "The argument 'infer_datetime_format' is deprecated and will be removed in a future version. A strict version of it is now the default, see https://pandas.pydata.org/pdeps/0004-consistent-to-datetime-parsing.html. You can safely remove this argument.\n"
     ]
    },
    {
     "ename": "ValueError",
     "evalue": "time data \"31/05/2016\" doesn't match format \"%m/%d/%Y\", at position 31. You might want to try:\n    - passing `format` if your strings have a consistent format;\n    - passing `format='ISO8601'` if your strings are all ISO8601 but not necessarily in exactly the same format;\n    - passing `format='mixed'`, and the format will be inferred for each element individually. You might want to use `dayfirst` alongside this.",
     "output_type": "error",
     "traceback": [
      "\u001b[0;31m---------------------------------------------------------------------------\u001b[0m",
      "\u001b[0;31mValueError\u001b[0m                                Traceback (most recent call last)",
      "Cell \u001b[0;32mIn[19], line 1\u001b[0m\n\u001b[0;32m----> 1\u001b[0m payment_data[\u001b[38;5;124m'\u001b[39m\u001b[38;5;124mdays_since_last_payment\u001b[39m\u001b[38;5;124m'\u001b[39m] \u001b[38;5;241m=\u001b[39m (pd\u001b[38;5;241m.\u001b[39mto_datetime(payment_data[\u001b[38;5;124m'\u001b[39m\u001b[38;5;124mreport_date\u001b[39m\u001b[38;5;124m'\u001b[39m], infer_datetime_format\u001b[38;5;241m=\u001b[39m\u001b[38;5;28;01mTrue\u001b[39;00m) \u001b[38;5;241m-\u001b[39m pd\u001b[38;5;241m.\u001b[39mto_datetime(payment_data[\u001b[38;5;124m'\u001b[39m\u001b[38;5;124mupdate_date\u001b[39m\u001b[38;5;124m'\u001b[39m], infer_datetime_format\u001b[38;5;241m=\u001b[39m\u001b[38;5;28;01mTrue\u001b[39;00m))\u001b[38;5;241m.\u001b[39mdt\u001b[38;5;241m.\u001b[39mdays\n",
      "File \u001b[0;32m~/Documents/anaconda3/lib/python3.11/site-packages/pandas/core/tools/datetimes.py:1046\u001b[0m, in \u001b[0;36mto_datetime\u001b[0;34m(arg, errors, dayfirst, yearfirst, utc, format, exact, unit, infer_datetime_format, origin, cache)\u001b[0m\n\u001b[1;32m   1044\u001b[0m             result \u001b[38;5;241m=\u001b[39m arg\u001b[38;5;241m.\u001b[39mtz_localize(\u001b[38;5;124m\"\u001b[39m\u001b[38;5;124mutc\u001b[39m\u001b[38;5;124m\"\u001b[39m)\n\u001b[1;32m   1045\u001b[0m \u001b[38;5;28;01melif\u001b[39;00m \u001b[38;5;28misinstance\u001b[39m(arg, ABCSeries):\n\u001b[0;32m-> 1046\u001b[0m     cache_array \u001b[38;5;241m=\u001b[39m _maybe_cache(arg, \u001b[38;5;28mformat\u001b[39m, cache, convert_listlike)\n\u001b[1;32m   1047\u001b[0m     \u001b[38;5;28;01mif\u001b[39;00m \u001b[38;5;129;01mnot\u001b[39;00m cache_array\u001b[38;5;241m.\u001b[39mempty:\n\u001b[1;32m   1048\u001b[0m         result \u001b[38;5;241m=\u001b[39m arg\u001b[38;5;241m.\u001b[39mmap(cache_array)\n",
      "File \u001b[0;32m~/Documents/anaconda3/lib/python3.11/site-packages/pandas/core/tools/datetimes.py:250\u001b[0m, in \u001b[0;36m_maybe_cache\u001b[0;34m(arg, format, cache, convert_listlike)\u001b[0m\n\u001b[1;32m    248\u001b[0m unique_dates \u001b[38;5;241m=\u001b[39m unique(arg)\n\u001b[1;32m    249\u001b[0m \u001b[38;5;28;01mif\u001b[39;00m \u001b[38;5;28mlen\u001b[39m(unique_dates) \u001b[38;5;241m<\u001b[39m \u001b[38;5;28mlen\u001b[39m(arg):\n\u001b[0;32m--> 250\u001b[0m     cache_dates \u001b[38;5;241m=\u001b[39m convert_listlike(unique_dates, \u001b[38;5;28mformat\u001b[39m)\n\u001b[1;32m    251\u001b[0m     \u001b[38;5;66;03m# GH#45319\u001b[39;00m\n\u001b[1;32m    252\u001b[0m     \u001b[38;5;28;01mtry\u001b[39;00m:\n",
      "File \u001b[0;32m~/Documents/anaconda3/lib/python3.11/site-packages/pandas/core/tools/datetimes.py:453\u001b[0m, in \u001b[0;36m_convert_listlike_datetimes\u001b[0;34m(arg, format, name, utc, unit, errors, dayfirst, yearfirst, exact)\u001b[0m\n\u001b[1;32m    451\u001b[0m \u001b[38;5;66;03m# `format` could be inferred, or user didn't ask for mixed-format parsing.\u001b[39;00m\n\u001b[1;32m    452\u001b[0m \u001b[38;5;28;01mif\u001b[39;00m \u001b[38;5;28mformat\u001b[39m \u001b[38;5;129;01mis\u001b[39;00m \u001b[38;5;129;01mnot\u001b[39;00m \u001b[38;5;28;01mNone\u001b[39;00m \u001b[38;5;129;01mand\u001b[39;00m \u001b[38;5;28mformat\u001b[39m \u001b[38;5;241m!=\u001b[39m \u001b[38;5;124m\"\u001b[39m\u001b[38;5;124mmixed\u001b[39m\u001b[38;5;124m\"\u001b[39m:\n\u001b[0;32m--> 453\u001b[0m     \u001b[38;5;28;01mreturn\u001b[39;00m _array_strptime_with_fallback(arg, name, utc, \u001b[38;5;28mformat\u001b[39m, exact, errors)\n\u001b[1;32m    455\u001b[0m result, tz_parsed \u001b[38;5;241m=\u001b[39m objects_to_datetime64ns(\n\u001b[1;32m    456\u001b[0m     arg,\n\u001b[1;32m    457\u001b[0m     dayfirst\u001b[38;5;241m=\u001b[39mdayfirst,\n\u001b[0;32m   (...)\u001b[0m\n\u001b[1;32m    461\u001b[0m     allow_object\u001b[38;5;241m=\u001b[39m\u001b[38;5;28;01mTrue\u001b[39;00m,\n\u001b[1;32m    462\u001b[0m )\n\u001b[1;32m    464\u001b[0m \u001b[38;5;28;01mif\u001b[39;00m tz_parsed \u001b[38;5;129;01mis\u001b[39;00m \u001b[38;5;129;01mnot\u001b[39;00m \u001b[38;5;28;01mNone\u001b[39;00m:\n\u001b[1;32m    465\u001b[0m     \u001b[38;5;66;03m# We can take a shortcut since the datetime64 numpy array\u001b[39;00m\n\u001b[1;32m    466\u001b[0m     \u001b[38;5;66;03m# is in UTC\u001b[39;00m\n",
      "File \u001b[0;32m~/Documents/anaconda3/lib/python3.11/site-packages/pandas/core/tools/datetimes.py:484\u001b[0m, in \u001b[0;36m_array_strptime_with_fallback\u001b[0;34m(arg, name, utc, fmt, exact, errors)\u001b[0m\n\u001b[1;32m    473\u001b[0m \u001b[38;5;28;01mdef\u001b[39;00m \u001b[38;5;21m_array_strptime_with_fallback\u001b[39m(\n\u001b[1;32m    474\u001b[0m     arg,\n\u001b[1;32m    475\u001b[0m     name,\n\u001b[0;32m   (...)\u001b[0m\n\u001b[1;32m    479\u001b[0m     errors: \u001b[38;5;28mstr\u001b[39m,\n\u001b[1;32m    480\u001b[0m ) \u001b[38;5;241m-\u001b[39m\u001b[38;5;241m>\u001b[39m Index:\n\u001b[1;32m    481\u001b[0m \u001b[38;5;250m    \u001b[39m\u001b[38;5;124;03m\"\"\"\u001b[39;00m\n\u001b[1;32m    482\u001b[0m \u001b[38;5;124;03m    Call array_strptime, with fallback behavior depending on 'errors'.\u001b[39;00m\n\u001b[1;32m    483\u001b[0m \u001b[38;5;124;03m    \"\"\"\u001b[39;00m\n\u001b[0;32m--> 484\u001b[0m     result, timezones \u001b[38;5;241m=\u001b[39m array_strptime(arg, fmt, exact\u001b[38;5;241m=\u001b[39mexact, errors\u001b[38;5;241m=\u001b[39merrors, utc\u001b[38;5;241m=\u001b[39mutc)\n\u001b[1;32m    485\u001b[0m     \u001b[38;5;28;01mif\u001b[39;00m \u001b[38;5;28many\u001b[39m(tz \u001b[38;5;129;01mis\u001b[39;00m \u001b[38;5;129;01mnot\u001b[39;00m \u001b[38;5;28;01mNone\u001b[39;00m \u001b[38;5;28;01mfor\u001b[39;00m tz \u001b[38;5;129;01min\u001b[39;00m timezones):\n\u001b[1;32m    486\u001b[0m         \u001b[38;5;28;01mreturn\u001b[39;00m _return_parsed_timezone_results(result, timezones, utc, name)\n",
      "File \u001b[0;32m~/Documents/anaconda3/lib/python3.11/site-packages/pandas/_libs/tslibs/strptime.pyx:530\u001b[0m, in \u001b[0;36mpandas._libs.tslibs.strptime.array_strptime\u001b[0;34m()\u001b[0m\n",
      "File \u001b[0;32m~/Documents/anaconda3/lib/python3.11/site-packages/pandas/_libs/tslibs/strptime.pyx:351\u001b[0m, in \u001b[0;36mpandas._libs.tslibs.strptime.array_strptime\u001b[0;34m()\u001b[0m\n",
      "\u001b[0;31mValueError\u001b[0m: time data \"31/05/2016\" doesn't match format \"%m/%d/%Y\", at position 31. You might want to try:\n    - passing `format` if your strings have a consistent format;\n    - passing `format='ISO8601'` if your strings are all ISO8601 but not necessarily in exactly the same format;\n    - passing `format='mixed'`, and the format will be inferred for each element individually. You might want to use `dayfirst` alongside this."
     ]
    }
   ],
   "source": [
    "payment_data['days_since_last_payment'] = (pd.to_datetime(payment_data['report_date'], infer_datetime_format=True) - pd.to_datetime(payment_data['update_date'], infer_datetime_format=True)).dt.days\n"
   ]
  },
  {
   "cell_type": "code",
   "execution_count": 18,
   "id": "80bb8b8c",
   "metadata": {},
   "outputs": [],
   "source": [
    "payment_data['days_since_last_payment'] = (\n",
    "    pd.to_datetime(payment_data['report_date'], format='%d/%m/%Y', dayfirst=True) -\n",
    "    pd.to_datetime(payment_data['update_date'], format='%d/%m/%Y', dayfirst=True)\n",
    ").dt.days\n"
   ]
  },
  {
   "cell_type": "code",
   "execution_count": 26,
   "id": "7e5e6181",
   "metadata": {
    "scrolled": true
   },
   "outputs": [
    {
     "name": "stdout",
     "output_type": "stream",
     "text": [
      "Accuracy: 0.1111111111111111\n",
      "Confusion Matrix:\n",
      "[[ 0  1  0 ...  0  0  0]\n",
      " [ 0  4  1 ...  1  2  4]\n",
      " [ 0  0  2 ...  0  0  1]\n",
      " ...\n",
      " [ 0  1  0 ...  5  1  2]\n",
      " [ 0  1  1 ...  0  4  4]\n",
      " [ 0  4  1 ...  0  1 12]]\n",
      "Classification Report:\n",
      "              precision    recall  f1-score   support\n",
      "\n",
      "           0       0.00      0.00      0.00         1\n",
      "           1       0.13      0.19      0.16        21\n",
      "           2       0.12      0.12      0.12        16\n",
      "           3       0.03      0.12      0.05         8\n",
      "           4       0.06      0.11      0.07         9\n",
      "           5       0.00      0.00      0.00        16\n",
      "           6       0.14      0.09      0.11        11\n",
      "           7       0.08      0.06      0.07        16\n",
      "           8       0.14      0.08      0.10        13\n",
      "           9       0.00      0.00      0.00        15\n",
      "          10       0.14      0.09      0.11        11\n",
      "          11       0.00      0.00      0.00        14\n",
      "          12       0.08      0.08      0.08        13\n",
      "          13       0.00      0.00      0.00         5\n",
      "          14       0.12      0.11      0.12         9\n",
      "          15       0.00      0.00      0.00         2\n",
      "          16       0.17      0.11      0.13         9\n",
      "          17       0.00      0.00      0.00         3\n",
      "          18       0.00      0.00      0.00        11\n",
      "          19       0.00      0.00      0.00         8\n",
      "          20       0.00      0.00      0.00         6\n",
      "          21       0.00      0.00      0.00         5\n",
      "          22       0.50      0.20      0.29         5\n",
      "          23       0.00      0.00      0.00         8\n",
      "          24       0.25      0.11      0.15         9\n",
      "          25       0.00      0.00      0.00         4\n",
      "          26       0.00      0.00      0.00        10\n",
      "          27       0.17      0.10      0.12        10\n",
      "          28       0.00      0.00      0.00         4\n",
      "          29       0.00      0.00      0.00         2\n",
      "          30       0.00      0.00      0.00         5\n",
      "          31       0.00      0.00      0.00         7\n",
      "          32       0.11      0.10      0.11        10\n",
      "          33       0.25      0.40      0.31         5\n",
      "          34       0.38      0.36      0.37        14\n",
      "          35       0.17      0.19      0.18        21\n",
      "          36       0.19      0.29      0.23        42\n",
      "\n",
      "    accuracy                           0.11       378\n",
      "   macro avg       0.09      0.08      0.08       378\n",
      "weighted avg       0.11      0.11      0.11       378\n",
      "\n"
     ]
    },
    {
     "name": "stderr",
     "output_type": "stream",
     "text": [
      "Precision and F-score are ill-defined and being set to 0.0 in labels with no predicted samples. Use `zero_division` parameter to control this behavior.\n",
      "Precision and F-score are ill-defined and being set to 0.0 in labels with no predicted samples. Use `zero_division` parameter to control this behavior.\n",
      "Precision and F-score are ill-defined and being set to 0.0 in labels with no predicted samples. Use `zero_division` parameter to control this behavior.\n"
     ]
    }
   ],
   "source": [
    "import pandas as pd\n",
    "from sklearn.model_selection import train_test_split\n",
    "from sklearn.ensemble import RandomForestClassifier\n",
    "from sklearn.metrics import accuracy_score, classification_report, confusion_matrix\n",
    "\n",
    "# Assuming you have loaded and preprocessed your data\n",
    "# If not, you might need to handle missing values, encode categorical variables, etc.\n",
    "\n",
    "# Let's create a feature matrix X and target variable y\n",
    "X = payment_data[['OVD_t1', 'OVD_t2', 'OVD_t3', 'OVD_sum', 'prod_limit', 'new_balance', 'highest_balance']]\n",
    "y = payment_data['pay_normal']  # Assuming 'label' is the target variable\n",
    "\n",
    "# Split the data into training and testing sets\n",
    "X_train, X_test, y_train, y_test = train_test_split(X, y, test_size=0.2, random_state=42)\n",
    "\n",
    "# Create a Random Forest Classifier\n",
    "model = RandomForestClassifier(random_state=42)\n",
    "\n",
    "# Train the model\n",
    "model.fit(X_train, y_train)\n",
    "\n",
    "# Make predictions on the test set\n",
    "y_pred = model.predict(X_test)\n",
    "\n",
    "# Evaluate the model\n",
    "accuracy = accuracy_score(y_test, y_pred)\n",
    "conf_matrix = confusion_matrix(y_test, y_pred)\n",
    "classification_rep = classification_report(y_test, y_pred)\n",
    "\n",
    "print(f'Accuracy: {accuracy}')\n",
    "print(f'Confusion Matrix:\\n{conf_matrix}')\n",
    "print(f'Classification Report:\\n{classification_rep}')\n"
   ]
  },
  {
   "cell_type": "code",
   "execution_count": 23,
   "id": "07cf13c7",
   "metadata": {},
   "outputs": [],
   "source": [
    "from sklearn.impute import SimpleImputer\n",
    "\n",
    "# Create an imputer\n",
    "imputer = SimpleImputer(strategy='mean')  # You can use 'median' or 'most_frequent' as well\n",
    "\n",
    "# Fit and transform the imputer on your feature matrix X\n",
    "X_imputed = imputer.fit_transform(X)\n",
    "\n",
    "# Now, use X_imputed in your model training\n"
   ]
  },
  {
   "cell_type": "code",
   "execution_count": 25,
   "id": "f639e90f",
   "metadata": {},
   "outputs": [],
   "source": [
    "# Drop rows with missing values\n",
    "payment_data.dropna(inplace=True)\n",
    "\n",
    "# Recreate X and y after dropping missing values\n",
    "X = payment_data[['OVD_t1', 'OVD_t2', 'OVD_t3', 'OVD_sum',  'prod_limit', 'new_balance', 'highest_balance']]\n",
    "y = payment_data['pay_normal']\n"
   ]
  },
  {
   "cell_type": "code",
   "execution_count": 27,
   "id": "e04a4367",
   "metadata": {},
   "outputs": [],
   "source": [
    "feature_importances = model.feature_importances_\n"
   ]
  },
  {
   "cell_type": "code",
   "execution_count": 32,
   "id": "2c779191",
   "metadata": {},
   "outputs": [
    {
     "ename": "ImportError",
     "evalue": "cannot import name 'plot_partial_dependence' from 'sklearn.inspection' (/Users/isaacxiao/Documents/anaconda3/lib/python3.11/site-packages/sklearn/inspection/__init__.py)",
     "output_type": "error",
     "traceback": [
      "\u001b[0;31m---------------------------------------------------------------------------\u001b[0m",
      "\u001b[0;31mImportError\u001b[0m                               Traceback (most recent call last)",
      "Cell \u001b[0;32mIn[32], line 1\u001b[0m\n\u001b[0;32m----> 1\u001b[0m \u001b[38;5;28;01mfrom\u001b[39;00m \u001b[38;5;21;01msklearn\u001b[39;00m\u001b[38;5;21;01m.\u001b[39;00m\u001b[38;5;21;01minspection\u001b[39;00m \u001b[38;5;28;01mimport\u001b[39;00m plot_partial_dependence\n\u001b[1;32m      3\u001b[0m plot_partial_dependence(model, X, features\u001b[38;5;241m=\u001b[39m[\u001b[38;5;241m0\u001b[39m, \u001b[38;5;241m1\u001b[39m, \u001b[38;5;241m2\u001b[39m], grid_resolution\u001b[38;5;241m=\u001b[39m\u001b[38;5;241m100\u001b[39m)\n",
      "\u001b[0;31mImportError\u001b[0m: cannot import name 'plot_partial_dependence' from 'sklearn.inspection' (/Users/isaacxiao/Documents/anaconda3/lib/python3.11/site-packages/sklearn/inspection/__init__.py)"
     ]
    }
   ],
   "source": [
    "from sklearn.inspection import plot_partial_dependence\n",
    "\n",
    "plot_partial_dependence(model, X, features=[0, 1, 2], grid_resolution=100)\n"
   ]
  },
  {
   "cell_type": "code",
   "execution_count": 29,
   "id": "050de026",
   "metadata": {},
   "outputs": [
    {
     "name": "stdout",
     "output_type": "stream",
     "text": [
      "Collecting pdpbox\n",
      "  Obtaining dependency information for pdpbox from https://files.pythonhosted.org/packages/1f/2e/8f115e0c514f2057fd8a99a01f52a5cd7d6952adf98dcffae086c2bccff6/PDPbox-0.3.0-py3-none-any.whl.metadata\n",
      "  Downloading PDPbox-0.3.0-py3-none-any.whl.metadata (4.6 kB)\n",
      "Requirement already satisfied: joblib>=1.1.0 in /Users/isaacxiao/Documents/anaconda3/lib/python3.11/site-packages (from pdpbox) (1.2.0)\n",
      "Requirement already satisfied: matplotlib>=3.6.2 in /Users/isaacxiao/Documents/anaconda3/lib/python3.11/site-packages (from pdpbox) (3.7.2)\n",
      "Requirement already satisfied: numpy>=1.21.5 in /Users/isaacxiao/Documents/anaconda3/lib/python3.11/site-packages (from pdpbox) (1.24.3)\n",
      "Requirement already satisfied: pandas>=1.4.4 in /Users/isaacxiao/Documents/anaconda3/lib/python3.11/site-packages (from pdpbox) (2.0.3)\n",
      "Requirement already satisfied: plotly>=5.9.0 in /Users/isaacxiao/Documents/anaconda3/lib/python3.11/site-packages (from pdpbox) (5.9.0)\n",
      "Collecting pqdm>=0.2.0 (from pdpbox)\n",
      "  Downloading pqdm-0.2.0-py2.py3-none-any.whl (6.8 kB)\n",
      "Requirement already satisfied: psutil>=5.9.0 in /Users/isaacxiao/Documents/anaconda3/lib/python3.11/site-packages (from pdpbox) (5.9.0)\n",
      "Requirement already satisfied: pytest in /Users/isaacxiao/Documents/anaconda3/lib/python3.11/site-packages (from pdpbox) (7.4.0)\n",
      "Requirement already satisfied: scikit-learn>=1.0.2 in /Users/isaacxiao/Documents/anaconda3/lib/python3.11/site-packages (from pdpbox) (1.3.0)\n",
      "Requirement already satisfied: setuptools in /Users/isaacxiao/Documents/anaconda3/lib/python3.11/site-packages (from pdpbox) (68.0.0)\n",
      "Requirement already satisfied: sphinx>=5.0.2 in /Users/isaacxiao/Documents/anaconda3/lib/python3.11/site-packages (from pdpbox) (5.0.2)\n",
      "Collecting sphinx-rtd-theme>=1.1.1 (from pdpbox)\n",
      "  Obtaining dependency information for sphinx-rtd-theme>=1.1.1 from https://files.pythonhosted.org/packages/18/01/76f40a18e9209bb098c1c1313c823dbbd001b23a2db71e7fd4eb5a48559c/sphinx_rtd_theme-1.3.0-py2.py3-none-any.whl.metadata\n",
      "  Downloading sphinx_rtd_theme-1.3.0-py2.py3-none-any.whl.metadata (4.5 kB)\n",
      "Requirement already satisfied: tqdm>=4.64.1 in /Users/isaacxiao/Documents/anaconda3/lib/python3.11/site-packages (from pdpbox) (4.65.0)\n",
      "Requirement already satisfied: numpydoc>=1.4.0 in /Users/isaacxiao/Documents/anaconda3/lib/python3.11/site-packages (from pdpbox) (1.5.0)\n",
      "Collecting xgboost>=1.7.1 (from pdpbox)\n",
      "  Obtaining dependency information for xgboost>=1.7.1 from https://files.pythonhosted.org/packages/3e/62/eb702237833c2f49bb7f3a4e6f49807ec213c2539ff8d9bddb2e13aa3690/xgboost-2.0.2-py3-none-macosx_10_15_x86_64.macosx_11_0_x86_64.macosx_12_0_x86_64.whl.metadata\n",
      "  Downloading xgboost-2.0.2-py3-none-macosx_10_15_x86_64.macosx_11_0_x86_64.macosx_12_0_x86_64.whl.metadata (2.0 kB)\n",
      "Requirement already satisfied: contourpy>=1.0.1 in /Users/isaacxiao/Documents/anaconda3/lib/python3.11/site-packages (from matplotlib>=3.6.2->pdpbox) (1.0.5)\n",
      "Requirement already satisfied: cycler>=0.10 in /Users/isaacxiao/Documents/anaconda3/lib/python3.11/site-packages (from matplotlib>=3.6.2->pdpbox) (0.11.0)\n",
      "Requirement already satisfied: fonttools>=4.22.0 in /Users/isaacxiao/Documents/anaconda3/lib/python3.11/site-packages (from matplotlib>=3.6.2->pdpbox) (4.25.0)\n",
      "Requirement already satisfied: kiwisolver>=1.0.1 in /Users/isaacxiao/Documents/anaconda3/lib/python3.11/site-packages (from matplotlib>=3.6.2->pdpbox) (1.4.4)\n",
      "Requirement already satisfied: packaging>=20.0 in /Users/isaacxiao/Documents/anaconda3/lib/python3.11/site-packages (from matplotlib>=3.6.2->pdpbox) (23.1)\n",
      "Requirement already satisfied: pillow>=6.2.0 in /Users/isaacxiao/Documents/anaconda3/lib/python3.11/site-packages (from matplotlib>=3.6.2->pdpbox) (9.4.0)\n",
      "Requirement already satisfied: pyparsing<3.1,>=2.3.1 in /Users/isaacxiao/Documents/anaconda3/lib/python3.11/site-packages (from matplotlib>=3.6.2->pdpbox) (3.0.9)\n",
      "Requirement already satisfied: python-dateutil>=2.7 in /Users/isaacxiao/Documents/anaconda3/lib/python3.11/site-packages (from matplotlib>=3.6.2->pdpbox) (2.8.2)\n",
      "Requirement already satisfied: Jinja2>=2.10 in /Users/isaacxiao/Documents/anaconda3/lib/python3.11/site-packages (from numpydoc>=1.4.0->pdpbox) (3.1.2)\n",
      "Requirement already satisfied: pytz>=2020.1 in /Users/isaacxiao/Documents/anaconda3/lib/python3.11/site-packages (from pandas>=1.4.4->pdpbox) (2023.3.post1)\n",
      "Requirement already satisfied: tzdata>=2022.1 in /Users/isaacxiao/Documents/anaconda3/lib/python3.11/site-packages (from pandas>=1.4.4->pdpbox) (2023.3)\n",
      "Requirement already satisfied: tenacity>=6.2.0 in /Users/isaacxiao/Documents/anaconda3/lib/python3.11/site-packages (from plotly>=5.9.0->pdpbox) (8.2.2)\n",
      "Collecting bounded-pool-executor (from pqdm>=0.2.0->pdpbox)\n",
      "  Downloading bounded_pool_executor-0.0.3-py3-none-any.whl (3.4 kB)\n",
      "Requirement already satisfied: typing-extensions in /Users/isaacxiao/Documents/anaconda3/lib/python3.11/site-packages (from pqdm>=0.2.0->pdpbox) (4.7.1)\n",
      "Requirement already satisfied: scipy>=1.5.0 in /Users/isaacxiao/Documents/anaconda3/lib/python3.11/site-packages (from scikit-learn>=1.0.2->pdpbox) (1.11.1)\n",
      "Requirement already satisfied: threadpoolctl>=2.0.0 in /Users/isaacxiao/Documents/anaconda3/lib/python3.11/site-packages (from scikit-learn>=1.0.2->pdpbox) (2.2.0)\n",
      "Requirement already satisfied: sphinxcontrib-applehelp in /Users/isaacxiao/Documents/anaconda3/lib/python3.11/site-packages (from sphinx>=5.0.2->pdpbox) (1.0.2)\n",
      "Requirement already satisfied: sphinxcontrib-devhelp in /Users/isaacxiao/Documents/anaconda3/lib/python3.11/site-packages (from sphinx>=5.0.2->pdpbox) (1.0.2)\n",
      "Requirement already satisfied: sphinxcontrib-jsmath in /Users/isaacxiao/Documents/anaconda3/lib/python3.11/site-packages (from sphinx>=5.0.2->pdpbox) (1.0.1)\n",
      "Requirement already satisfied: sphinxcontrib-htmlhelp>=2.0.0 in /Users/isaacxiao/Documents/anaconda3/lib/python3.11/site-packages (from sphinx>=5.0.2->pdpbox) (2.0.0)\n",
      "Requirement already satisfied: sphinxcontrib-serializinghtml>=1.1.5 in /Users/isaacxiao/Documents/anaconda3/lib/python3.11/site-packages (from sphinx>=5.0.2->pdpbox) (1.1.5)\n",
      "Requirement already satisfied: sphinxcontrib-qthelp in /Users/isaacxiao/Documents/anaconda3/lib/python3.11/site-packages (from sphinx>=5.0.2->pdpbox) (1.0.3)\n",
      "Requirement already satisfied: Pygments>=2.0 in /Users/isaacxiao/Documents/anaconda3/lib/python3.11/site-packages (from sphinx>=5.0.2->pdpbox) (2.15.1)\n",
      "Requirement already satisfied: docutils<0.19,>=0.14 in /Users/isaacxiao/Documents/anaconda3/lib/python3.11/site-packages (from sphinx>=5.0.2->pdpbox) (0.18.1)\n",
      "Requirement already satisfied: snowballstemmer>=1.1 in /Users/isaacxiao/Documents/anaconda3/lib/python3.11/site-packages (from sphinx>=5.0.2->pdpbox) (2.2.0)\n",
      "Requirement already satisfied: babel>=1.3 in /Users/isaacxiao/Documents/anaconda3/lib/python3.11/site-packages (from sphinx>=5.0.2->pdpbox) (2.11.0)\n",
      "Requirement already satisfied: alabaster<0.8,>=0.7 in /Users/isaacxiao/Documents/anaconda3/lib/python3.11/site-packages (from sphinx>=5.0.2->pdpbox) (0.7.12)\n",
      "Requirement already satisfied: imagesize in /Users/isaacxiao/Documents/anaconda3/lib/python3.11/site-packages (from sphinx>=5.0.2->pdpbox) (1.4.1)\n",
      "Requirement already satisfied: requests>=2.5.0 in /Users/isaacxiao/Documents/anaconda3/lib/python3.11/site-packages (from sphinx>=5.0.2->pdpbox) (2.31.0)\n",
      "Collecting sphinxcontrib-jquery<5,>=4 (from sphinx-rtd-theme>=1.1.1->pdpbox)\n",
      "  Downloading sphinxcontrib_jquery-4.1-py2.py3-none-any.whl (121 kB)\n",
      "\u001b[2K     \u001b[90m━━━━━━━━━━━━━━━━━━━━━━━━━━━━━━━━━━━━━━━\u001b[0m \u001b[32m121.1/121.1 kB\u001b[0m \u001b[31m3.3 MB/s\u001b[0m eta \u001b[36m0:00:00\u001b[0m\n",
      "\u001b[?25hRequirement already satisfied: iniconfig in /Users/isaacxiao/Documents/anaconda3/lib/python3.11/site-packages (from pytest->pdpbox) (1.1.1)\n",
      "Requirement already satisfied: pluggy<2.0,>=0.12 in /Users/isaacxiao/Documents/anaconda3/lib/python3.11/site-packages (from pytest->pdpbox) (1.0.0)\n",
      "Requirement already satisfied: MarkupSafe>=2.0 in /Users/isaacxiao/Documents/anaconda3/lib/python3.11/site-packages (from Jinja2>=2.10->numpydoc>=1.4.0->pdpbox) (2.1.1)\n",
      "Requirement already satisfied: six>=1.5 in /Users/isaacxiao/Documents/anaconda3/lib/python3.11/site-packages (from python-dateutil>=2.7->matplotlib>=3.6.2->pdpbox) (1.16.0)\n"
     ]
    },
    {
     "name": "stdout",
     "output_type": "stream",
     "text": [
      "Requirement already satisfied: charset-normalizer<4,>=2 in /Users/isaacxiao/Documents/anaconda3/lib/python3.11/site-packages (from requests>=2.5.0->sphinx>=5.0.2->pdpbox) (2.0.4)\n",
      "Requirement already satisfied: idna<4,>=2.5 in /Users/isaacxiao/Documents/anaconda3/lib/python3.11/site-packages (from requests>=2.5.0->sphinx>=5.0.2->pdpbox) (3.4)\n",
      "Requirement already satisfied: urllib3<3,>=1.21.1 in /Users/isaacxiao/Documents/anaconda3/lib/python3.11/site-packages (from requests>=2.5.0->sphinx>=5.0.2->pdpbox) (1.26.16)\n",
      "Requirement already satisfied: certifi>=2017.4.17 in /Users/isaacxiao/Documents/anaconda3/lib/python3.11/site-packages (from requests>=2.5.0->sphinx>=5.0.2->pdpbox) (2023.7.22)\n",
      "Downloading PDPbox-0.3.0-py3-none-any.whl (35.8 MB)\n",
      "\u001b[2K   \u001b[90m━━━━━━━━━━━━━━━━━━━━━━━━━━━━━━━━━━━━━━━━\u001b[0m \u001b[32m35.8/35.8 MB\u001b[0m \u001b[31m38.0 MB/s\u001b[0m eta \u001b[36m0:00:00\u001b[0m00:01\u001b[0m00:01\u001b[0m\n",
      "\u001b[?25hDownloading sphinx_rtd_theme-1.3.0-py2.py3-none-any.whl (2.8 MB)\n",
      "\u001b[2K   \u001b[90m━━━━━━━━━━━━━━━━━━━━━━━━━━━━━━━━━━━━━━━━\u001b[0m \u001b[32m2.8/2.8 MB\u001b[0m \u001b[31m40.0 MB/s\u001b[0m eta \u001b[36m0:00:00\u001b[0m00:01\u001b[0m\n",
      "\u001b[?25hDownloading xgboost-2.0.2-py3-none-macosx_10_15_x86_64.macosx_11_0_x86_64.macosx_12_0_x86_64.whl (2.2 MB)\n",
      "\u001b[2K   \u001b[90m━━━━━━━━━━━━━━━━━━━━━━━━━━━━━━━━━━━━━━━━\u001b[0m \u001b[32m2.2/2.2 MB\u001b[0m \u001b[31m30.4 MB/s\u001b[0m eta \u001b[36m0:00:00\u001b[0m00:01\u001b[0m\n",
      "\u001b[?25hInstalling collected packages: bounded-pool-executor, pqdm, xgboost, sphinxcontrib-jquery, sphinx-rtd-theme, pdpbox\n",
      "Successfully installed bounded-pool-executor-0.0.3 pdpbox-0.3.0 pqdm-0.2.0 sphinx-rtd-theme-1.3.0 sphinxcontrib-jquery-4.1 xgboost-2.0.2\n",
      "Note: you may need to restart the kernel to use updated packages.\n"
     ]
    }
   ],
   "source": [
    "pip install pdpbox\n"
   ]
  },
  {
   "cell_type": "code",
   "execution_count": 31,
   "id": "bb0e1db9",
   "metadata": {},
   "outputs": [
    {
     "ename": "ImportError",
     "evalue": "cannot import name 'get_dataset' from 'pdpbox' (/Users/isaacxiao/Documents/anaconda3/lib/python3.11/site-packages/pdpbox/__init__.py)",
     "output_type": "error",
     "traceback": [
      "\u001b[0;31m---------------------------------------------------------------------------\u001b[0m",
      "\u001b[0;31mImportError\u001b[0m                               Traceback (most recent call last)",
      "Cell \u001b[0;32mIn[31], line 1\u001b[0m\n\u001b[0;32m----> 1\u001b[0m \u001b[38;5;28;01mfrom\u001b[39;00m \u001b[38;5;21;01mpdpbox\u001b[39;00m \u001b[38;5;28;01mimport\u001b[39;00m pdp, get_dataset\n\u001b[1;32m      3\u001b[0m \u001b[38;5;66;03m# Create the data that we will plot\u001b[39;00m\n\u001b[1;32m      4\u001b[0m pdp_goals \u001b[38;5;241m=\u001b[39m pdp\u001b[38;5;241m.\u001b[39mpdp_isolate(model\u001b[38;5;241m=\u001b[39mmodel, dataset\u001b[38;5;241m=\u001b[39mX_test, model_features\u001b[38;5;241m=\u001b[39mX\u001b[38;5;241m.\u001b[39mcolumns, feature\u001b[38;5;241m=\u001b[39m\u001b[38;5;124m'\u001b[39m\u001b[38;5;124mpay_normal\u001b[39m\u001b[38;5;124m'\u001b[39m)\n",
      "\u001b[0;31mImportError\u001b[0m: cannot import name 'get_dataset' from 'pdpbox' (/Users/isaacxiao/Documents/anaconda3/lib/python3.11/site-packages/pdpbox/__init__.py)"
     ]
    }
   ],
   "source": [
    "from pdpbox import pdp, get_dataset\n",
    "\n",
    "# Create the data that we will plot\n",
    "pdp_goals = pdp.pdp_isolate(model=model, dataset=X_test, model_features=X.columns, feature='pay_normal')\n",
    "\n",
    "# plot it\n",
    "pdp.pdp_plot(pdp_goals, 'pay_normal')\n",
    "plt.show()\n"
   ]
  },
  {
   "cell_type": "code",
   "execution_count": 35,
   "id": "f270def4",
   "metadata": {},
   "outputs": [
    {
     "ename": "AttributeError",
     "evalue": "module 'pdpbox.pdp' has no attribute 'pdp_isolate'",
     "output_type": "error",
     "traceback": [
      "\u001b[0;31m---------------------------------------------------------------------------\u001b[0m",
      "\u001b[0;31mAttributeError\u001b[0m                            Traceback (most recent call last)",
      "Cell \u001b[0;32mIn[35], line 4\u001b[0m\n\u001b[1;32m      1\u001b[0m \u001b[38;5;28;01mfrom\u001b[39;00m \u001b[38;5;21;01mpdpbox\u001b[39;00m \u001b[38;5;28;01mimport\u001b[39;00m pdp\n\u001b[1;32m      3\u001b[0m \u001b[38;5;66;03m# Create the data that we will plot\u001b[39;00m\n\u001b[0;32m----> 4\u001b[0m pdp_goals \u001b[38;5;241m=\u001b[39m pdp\u001b[38;5;241m.\u001b[39mpdp_isolate(model\u001b[38;5;241m=\u001b[39mmodel, dataset\u001b[38;5;241m=\u001b[39mX_test, model_features\u001b[38;5;241m=\u001b[39mX\u001b[38;5;241m.\u001b[39mcolumns, feature\u001b[38;5;241m=\u001b[39m\u001b[38;5;124m'\u001b[39m\u001b[38;5;124mpay_normal\u001b[39m\u001b[38;5;124m'\u001b[39m)\n\u001b[1;32m      6\u001b[0m \u001b[38;5;66;03m# Plot the PDP\u001b[39;00m\n\u001b[1;32m      7\u001b[0m pdp\u001b[38;5;241m.\u001b[39mpdp_plot(pdp_goals, \u001b[38;5;124m'\u001b[39m\u001b[38;5;124mpay_normal\u001b[39m\u001b[38;5;124m'\u001b[39m)\n",
      "\u001b[0;31mAttributeError\u001b[0m: module 'pdpbox.pdp' has no attribute 'pdp_isolate'"
     ]
    }
   ],
   "source": [
    "from pdpbox import pdp\n",
    "\n",
    "# Create the data that we will plot\n",
    "pdp_goals = pdp.pdp_isolate(model=model, dataset=X_test, model_features=X.columns, feature='pay_normal')\n",
    "\n",
    "# Plot the PDP\n",
    "pdp.pdp_plot(pdp_goals, 'pay_normal')\n",
    "plt.show()\n"
   ]
  },
  {
   "cell_type": "code",
   "execution_count": 36,
   "id": "f75a5557",
   "metadata": {},
   "outputs": [
    {
     "ename": "AttributeError",
     "evalue": "module 'pdpbox.pdp' has no attribute 'pdp_plot'",
     "output_type": "error",
     "traceback": [
      "\u001b[0;31m---------------------------------------------------------------------------\u001b[0m",
      "\u001b[0;31mAttributeError\u001b[0m                            Traceback (most recent call last)",
      "Cell \u001b[0;32mIn[36], line 4\u001b[0m\n\u001b[1;32m      1\u001b[0m \u001b[38;5;28;01mfrom\u001b[39;00m \u001b[38;5;21;01mpdpbox\u001b[39;00m \u001b[38;5;28;01mimport\u001b[39;00m pdp\n\u001b[1;32m      3\u001b[0m \u001b[38;5;66;03m# Create the data that we will plot\u001b[39;00m\n\u001b[0;32m----> 4\u001b[0m pdp_goals \u001b[38;5;241m=\u001b[39m pdp\u001b[38;5;241m.\u001b[39mpdp_plot(model\u001b[38;5;241m=\u001b[39mmodel, dataset\u001b[38;5;241m=\u001b[39mX_test, model_features\u001b[38;5;241m=\u001b[39mX\u001b[38;5;241m.\u001b[39mcolumns, feature\u001b[38;5;241m=\u001b[39m\u001b[38;5;124m'\u001b[39m\u001b[38;5;124mpay_normal\u001b[39m\u001b[38;5;124m'\u001b[39m)\n\u001b[1;32m      5\u001b[0m plt\u001b[38;5;241m.\u001b[39mshow()\n",
      "\u001b[0;31mAttributeError\u001b[0m: module 'pdpbox.pdp' has no attribute 'pdp_plot'"
     ]
    }
   ],
   "source": [
    "from pdpbox import pdp\n",
    "\n",
    "# Create the data that we will plot\n",
    "pdp_goals = pdp.pdp_plot(model=model, dataset=X_test, model_features=X.columns, feature='pay_normal')\n",
    "plt.show()\n"
   ]
  },
  {
   "cell_type": "code",
   "execution_count": 37,
   "id": "d453d4e5",
   "metadata": {},
   "outputs": [
    {
     "ename": "ImportError",
     "evalue": "cannot import name 'get_dataset' from 'pdpbox' (/Users/isaacxiao/Documents/anaconda3/lib/python3.11/site-packages/pdpbox/__init__.py)",
     "output_type": "error",
     "traceback": [
      "\u001b[0;31m---------------------------------------------------------------------------\u001b[0m",
      "\u001b[0;31mImportError\u001b[0m                               Traceback (most recent call last)",
      "Cell \u001b[0;32mIn[37], line 1\u001b[0m\n\u001b[0;32m----> 1\u001b[0m \u001b[38;5;28;01mfrom\u001b[39;00m \u001b[38;5;21;01mpdpbox\u001b[39;00m \u001b[38;5;28;01mimport\u001b[39;00m pdp, get_dataset\n\u001b[1;32m      3\u001b[0m \u001b[38;5;66;03m# Create the data that we will plot\u001b[39;00m\n\u001b[1;32m      4\u001b[0m pdp_goals \u001b[38;5;241m=\u001b[39m pdp\u001b[38;5;241m.\u001b[39mpdp_isolate(model\u001b[38;5;241m=\u001b[39mmodel, dataset\u001b[38;5;241m=\u001b[39mX_test, model_features\u001b[38;5;241m=\u001b[39mX\u001b[38;5;241m.\u001b[39mcolumns, feature\u001b[38;5;241m=\u001b[39m\u001b[38;5;124m'\u001b[39m\u001b[38;5;124mpay_normal\u001b[39m\u001b[38;5;124m'\u001b[39m)\n",
      "\u001b[0;31mImportError\u001b[0m: cannot import name 'get_dataset' from 'pdpbox' (/Users/isaacxiao/Documents/anaconda3/lib/python3.11/site-packages/pdpbox/__init__.py)"
     ]
    }
   ],
   "source": [
    "from pdpbox import pdp, get_dataset\n",
    "\n",
    "# Create the data that we will plot\n",
    "pdp_goals = pdp.pdp_isolate(model=model, dataset=X_test, model_features=X.columns, feature='pay_normal')\n",
    "\n",
    "# Plot the PDP\n",
    "pdp.pdp_plot(pdp_goals, 'pay_normal')\n",
    "plt.show()\n"
   ]
  },
  {
   "cell_type": "code",
   "execution_count": 38,
   "id": "fd347af8",
   "metadata": {},
   "outputs": [
    {
     "ename": "AttributeError",
     "evalue": "module 'pdpbox.pdp' has no attribute 'pdp_isolate'",
     "output_type": "error",
     "traceback": [
      "\u001b[0;31m---------------------------------------------------------------------------\u001b[0m",
      "\u001b[0;31mAttributeError\u001b[0m                            Traceback (most recent call last)",
      "Cell \u001b[0;32mIn[38], line 4\u001b[0m\n\u001b[1;32m      1\u001b[0m \u001b[38;5;28;01mfrom\u001b[39;00m \u001b[38;5;21;01mpdpbox\u001b[39;00m \u001b[38;5;28;01mimport\u001b[39;00m pdp\n\u001b[1;32m      3\u001b[0m \u001b[38;5;66;03m# Create the data that we will plot\u001b[39;00m\n\u001b[0;32m----> 4\u001b[0m pdp_goals \u001b[38;5;241m=\u001b[39m pdp\u001b[38;5;241m.\u001b[39mpdp_isolate(model\u001b[38;5;241m=\u001b[39mmodel, dataset\u001b[38;5;241m=\u001b[39mX_test, model_features\u001b[38;5;241m=\u001b[39mX\u001b[38;5;241m.\u001b[39mcolumns, feature\u001b[38;5;241m=\u001b[39m\u001b[38;5;124m'\u001b[39m\u001b[38;5;124mpay_normal\u001b[39m\u001b[38;5;124m'\u001b[39m)\n\u001b[1;32m      6\u001b[0m \u001b[38;5;66;03m# Plot the PDP\u001b[39;00m\n\u001b[1;32m      7\u001b[0m pdp\u001b[38;5;241m.\u001b[39mpdp_plot(pdp_goals, \u001b[38;5;124m'\u001b[39m\u001b[38;5;124mpay_normal\u001b[39m\u001b[38;5;124m'\u001b[39m)\n",
      "\u001b[0;31mAttributeError\u001b[0m: module 'pdpbox.pdp' has no attribute 'pdp_isolate'"
     ]
    }
   ],
   "source": [
    "from pdpbox import pdp\n",
    "\n",
    "# Create the data that we will plot\n",
    "pdp_goals = pdp.pdp_isolate(model=model, dataset=X_test, model_features=X.columns, feature='pay_normal')\n",
    "\n",
    "# Plot the PDP\n",
    "pdp.pdp_plot(pdp_goals, 'pay_normal')\n",
    "plt.show()\n",
    "\n"
   ]
  },
  {
   "cell_type": "code",
   "execution_count": 39,
   "id": "e0218cf2",
   "metadata": {},
   "outputs": [
    {
     "data": {
      "image/png": "[encoded data removed]",
      "text/plain": [
       "<Figure size 1000x600 with 1 Axes>"
      ]
     },
     "metadata": {},
     "output_type": "display_data"
    }
   ],
   "source": [
    "# Access feature importances from the trained model\n",
    "feature_importances = model.feature_importances_\n",
    "\n",
    "# Create a DataFrame to display feature importances\n",
    "feature_importance_df = pd.DataFrame({'Feature': X.columns, 'Importance': feature_importances})\n",
    "feature_importance_df = feature_importance_df.sort_values(by='Importance', ascending=False)\n",
    "\n",
    "# Plot the feature importances\n",
    "plt.figure(figsize=(10, 6))\n",
    "sns.barplot(x='Importance', y='Feature', data=feature_importance_df)\n",
    "plt.title('Feature Importance')\n",
    "plt.show()\n"
   ]
  },
  {
   "cell_type": "code",
   "execution_count": 40,
   "id": "5fc01b2f",
   "metadata": {},
   "outputs": [
    {
     "ename": "AttributeError",
     "evalue": "module 'pdpbox.pdp' has no attribute 'pdp_isolate'",
     "output_type": "error",
     "traceback": [
      "\u001b[0;31m---------------------------------------------------------------------------\u001b[0m",
      "\u001b[0;31mAttributeError\u001b[0m                            Traceback (most recent call last)",
      "Cell \u001b[0;32mIn[40], line 4\u001b[0m\n\u001b[1;32m      1\u001b[0m \u001b[38;5;28;01mfrom\u001b[39;00m \u001b[38;5;21;01mpdpbox\u001b[39;00m \u001b[38;5;28;01mimport\u001b[39;00m pdp\n\u001b[1;32m      3\u001b[0m \u001b[38;5;66;03m# Create the data that we will plot\u001b[39;00m\n\u001b[0;32m----> 4\u001b[0m pdp_goals \u001b[38;5;241m=\u001b[39m pdp\u001b[38;5;241m.\u001b[39mpdp_isolate(model\u001b[38;5;241m=\u001b[39mmodel, dataset\u001b[38;5;241m=\u001b[39mX_test, model_features\u001b[38;5;241m=\u001b[39mX\u001b[38;5;241m.\u001b[39mcolumns, feature\u001b[38;5;241m=\u001b[39m\u001b[38;5;124m'\u001b[39m\u001b[38;5;124mpay_normal\u001b[39m\u001b[38;5;124m'\u001b[39m)\n\u001b[1;32m      6\u001b[0m \u001b[38;5;66;03m# Plot the PDP\u001b[39;00m\n\u001b[1;32m      7\u001b[0m pdp\u001b[38;5;241m.\u001b[39mpdp_plot(pdp_goals, \u001b[38;5;124m'\u001b[39m\u001b[38;5;124mpay_normal\u001b[39m\u001b[38;5;124m'\u001b[39m)\n",
      "\u001b[0;31mAttributeError\u001b[0m: module 'pdpbox.pdp' has no attribute 'pdp_isolate'"
     ]
    }
   ],
   "source": [
    "from pdpbox import pdp\n",
    "\n",
    "# Create the data that we will plot\n",
    "pdp_goals = pdp.pdp_isolate(model=model, dataset=X_test, model_features=X.columns, feature='pay_normal')\n",
    "\n",
    "# Plot the PDP\n",
    "pdp.pdp_plot(pdp_goals, 'pay_normal')\n",
    "plt.show()\n"
   ]
  },
  {
   "cell_type": "code",
   "execution_count": 41,
   "id": "ef07f91b",
   "metadata": {},
   "outputs": [
    {
     "data": {
      "image/png": "[encoded data removed]",
      "text/plain": [
       "<Figure size 640x480 with 2 Axes>"
      ]
     },
     "metadata": {},
     "output_type": "display_data"
    }
   ],
   "source": [
    "from sklearn.metrics import confusion_matrix, classification_report\n",
    "\n",
    "# Generate predictions\n",
    "y_pred = model.predict(X_test)\n",
    "\n",
    "# Create a confusion matrix\n",
    "cm = confusion_matrix(y_test, y_pred)\n",
    "\n",
    "# Display the confusion matrix\n",
    "sns.heatmap(cm, annot=True, fmt='d', cmap='Blues')\n",
    "plt.xlabel('Predicted')\n",
    "plt.ylabel('True')\n",
    "plt.title('Confusion Matrix')\n",
    "plt.show()\n"
   ]
  },
  {
   "cell_type": "code",
   "execution_count": 42,
   "id": "f3fea08a",
   "metadata": {},
   "outputs": [
    {
     "name": "stdout",
     "output_type": "stream",
     "text": [
      "              precision    recall  f1-score   support\n",
      "\n",
      "           0       0.00      0.00      0.00         1\n",
      "           1       0.13      0.19      0.16        21\n",
      "           2       0.12      0.12      0.12        16\n",
      "           3       0.03      0.12      0.05         8\n",
      "           4       0.06      0.11      0.07         9\n",
      "           5       0.00      0.00      0.00        16\n",
      "           6       0.14      0.09      0.11        11\n",
      "           7       0.08      0.06      0.07        16\n",
      "           8       0.14      0.08      0.10        13\n",
      "           9       0.00      0.00      0.00        15\n",
      "          10       0.14      0.09      0.11        11\n",
      "          11       0.00      0.00      0.00        14\n",
      "          12       0.08      0.08      0.08        13\n",
      "          13       0.00      0.00      0.00         5\n",
      "          14       0.12      0.11      0.12         9\n",
      "          15       0.00      0.00      0.00         2\n",
      "          16       0.17      0.11      0.13         9\n",
      "          17       0.00      0.00      0.00         3\n",
      "          18       0.00      0.00      0.00        11\n",
      "          19       0.00      0.00      0.00         8\n",
      "          20       0.00      0.00      0.00         6\n",
      "          21       0.00      0.00      0.00         5\n",
      "          22       0.50      0.20      0.29         5\n",
      "          23       0.00      0.00      0.00         8\n",
      "          24       0.25      0.11      0.15         9\n",
      "          25       0.00      0.00      0.00         4\n",
      "          26       0.00      0.00      0.00        10\n",
      "          27       0.17      0.10      0.12        10\n",
      "          28       0.00      0.00      0.00         4\n",
      "          29       0.00      0.00      0.00         2\n",
      "          30       0.00      0.00      0.00         5\n",
      "          31       0.00      0.00      0.00         7\n",
      "          32       0.11      0.10      0.11        10\n",
      "          33       0.25      0.40      0.31         5\n",
      "          34       0.38      0.36      0.37        14\n",
      "          35       0.17      0.19      0.18        21\n",
      "          36       0.19      0.29      0.23        42\n",
      "\n",
      "    accuracy                           0.11       378\n",
      "   macro avg       0.09      0.08      0.08       378\n",
      "weighted avg       0.11      0.11      0.11       378\n",
      "\n"
     ]
    }
   ],
   "source": [
    "# Display the classification report\n",
    "print(classification_report(y_test, y_pred))\n"
   ]
  },
  {
   "cell_type": "code",
   "execution_count": 43,
   "id": "0b4822e6",
   "metadata": {},
   "outputs": [
    {
     "ename": "ValueError",
     "evalue": "multiclass format is not supported",
     "output_type": "error",
     "traceback": [
      "\u001b[0;31m---------------------------------------------------------------------------\u001b[0m",
      "\u001b[0;31mValueError\u001b[0m                                Traceback (most recent call last)",
      "Cell \u001b[0;32mIn[43], line 7\u001b[0m\n\u001b[1;32m      4\u001b[0m y_prob \u001b[38;5;241m=\u001b[39m model\u001b[38;5;241m.\u001b[39mpredict_proba(X_test)[:, \u001b[38;5;241m1\u001b[39m]\n\u001b[1;32m      6\u001b[0m \u001b[38;5;66;03m# Calculate ROC curve\u001b[39;00m\n\u001b[0;32m----> 7\u001b[0m fpr, tpr, thresholds \u001b[38;5;241m=\u001b[39m roc_curve(y_test, y_prob)\n\u001b[1;32m      9\u001b[0m \u001b[38;5;66;03m# Plot ROC curve\u001b[39;00m\n\u001b[1;32m     10\u001b[0m plt\u001b[38;5;241m.\u001b[39mplot(fpr, tpr, label\u001b[38;5;241m=\u001b[39m\u001b[38;5;124mf\u001b[39m\u001b[38;5;124m'\u001b[39m\u001b[38;5;124mAUC = \u001b[39m\u001b[38;5;132;01m{\u001b[39;00mroc_auc_score(y_test,\u001b[38;5;250m \u001b[39my_prob)\u001b[38;5;132;01m:\u001b[39;00m\u001b[38;5;124m.2f\u001b[39m\u001b[38;5;132;01m}\u001b[39;00m\u001b[38;5;124m'\u001b[39m)\n",
      "File \u001b[0;32m~/Documents/anaconda3/lib/python3.11/site-packages/sklearn/utils/_param_validation.py:211\u001b[0m, in \u001b[0;36mvalidate_params.<locals>.decorator.<locals>.wrapper\u001b[0;34m(*args, **kwargs)\u001b[0m\n\u001b[1;32m    205\u001b[0m \u001b[38;5;28;01mtry\u001b[39;00m:\n\u001b[1;32m    206\u001b[0m     \u001b[38;5;28;01mwith\u001b[39;00m config_context(\n\u001b[1;32m    207\u001b[0m         skip_parameter_validation\u001b[38;5;241m=\u001b[39m(\n\u001b[1;32m    208\u001b[0m             prefer_skip_nested_validation \u001b[38;5;129;01mor\u001b[39;00m global_skip_validation\n\u001b[1;32m    209\u001b[0m         )\n\u001b[1;32m    210\u001b[0m     ):\n\u001b[0;32m--> 211\u001b[0m         \u001b[38;5;28;01mreturn\u001b[39;00m func(\u001b[38;5;241m*\u001b[39margs, \u001b[38;5;241m*\u001b[39m\u001b[38;5;241m*\u001b[39mkwargs)\n\u001b[1;32m    212\u001b[0m \u001b[38;5;28;01mexcept\u001b[39;00m InvalidParameterError \u001b[38;5;28;01mas\u001b[39;00m e:\n\u001b[1;32m    213\u001b[0m     \u001b[38;5;66;03m# When the function is just a wrapper around an estimator, we allow\u001b[39;00m\n\u001b[1;32m    214\u001b[0m     \u001b[38;5;66;03m# the function to delegate validation to the estimator, but we replace\u001b[39;00m\n\u001b[1;32m    215\u001b[0m     \u001b[38;5;66;03m# the name of the estimator by the name of the function in the error\u001b[39;00m\n\u001b[1;32m    216\u001b[0m     \u001b[38;5;66;03m# message to avoid confusion.\u001b[39;00m\n\u001b[1;32m    217\u001b[0m     msg \u001b[38;5;241m=\u001b[39m re\u001b[38;5;241m.\u001b[39msub(\n\u001b[1;32m    218\u001b[0m         \u001b[38;5;124mr\u001b[39m\u001b[38;5;124m\"\u001b[39m\u001b[38;5;124mparameter of \u001b[39m\u001b[38;5;124m\\\u001b[39m\u001b[38;5;124mw+ must be\u001b[39m\u001b[38;5;124m\"\u001b[39m,\n\u001b[1;32m    219\u001b[0m         \u001b[38;5;124mf\u001b[39m\u001b[38;5;124m\"\u001b[39m\u001b[38;5;124mparameter of \u001b[39m\u001b[38;5;132;01m{\u001b[39;00mfunc\u001b[38;5;241m.\u001b[39m\u001b[38;5;18m__qualname__\u001b[39m\u001b[38;5;132;01m}\u001b[39;00m\u001b[38;5;124m must be\u001b[39m\u001b[38;5;124m\"\u001b[39m,\n\u001b[1;32m    220\u001b[0m         \u001b[38;5;28mstr\u001b[39m(e),\n\u001b[1;32m    221\u001b[0m     )\n",
      "File \u001b[0;32m~/Documents/anaconda3/lib/python3.11/site-packages/sklearn/metrics/_ranking.py:1094\u001b[0m, in \u001b[0;36mroc_curve\u001b[0;34m(y_true, y_score, pos_label, sample_weight, drop_intermediate)\u001b[0m\n\u001b[1;32m    992\u001b[0m \u001b[38;5;129m@validate_params\u001b[39m(\n\u001b[1;32m    993\u001b[0m     {\n\u001b[1;32m    994\u001b[0m         \u001b[38;5;124m\"\u001b[39m\u001b[38;5;124my_true\u001b[39m\u001b[38;5;124m\"\u001b[39m: [\u001b[38;5;124m\"\u001b[39m\u001b[38;5;124marray-like\u001b[39m\u001b[38;5;124m\"\u001b[39m],\n\u001b[0;32m   (...)\u001b[0m\n\u001b[1;32m   1003\u001b[0m     y_true, y_score, \u001b[38;5;241m*\u001b[39m, pos_label\u001b[38;5;241m=\u001b[39m\u001b[38;5;28;01mNone\u001b[39;00m, sample_weight\u001b[38;5;241m=\u001b[39m\u001b[38;5;28;01mNone\u001b[39;00m, drop_intermediate\u001b[38;5;241m=\u001b[39m\u001b[38;5;28;01mTrue\u001b[39;00m\n\u001b[1;32m   1004\u001b[0m ):\n\u001b[1;32m   1005\u001b[0m \u001b[38;5;250m    \u001b[39m\u001b[38;5;124;03m\"\"\"Compute Receiver operating characteristic (ROC).\u001b[39;00m\n\u001b[1;32m   1006\u001b[0m \n\u001b[1;32m   1007\u001b[0m \u001b[38;5;124;03m    Note: this implementation is restricted to the binary classification task.\u001b[39;00m\n\u001b[0;32m   (...)\u001b[0m\n\u001b[1;32m   1092\u001b[0m \u001b[38;5;124;03m    array([ inf, 0.8 , 0.4 , 0.35, 0.1 ])\u001b[39;00m\n\u001b[1;32m   1093\u001b[0m \u001b[38;5;124;03m    \"\"\"\u001b[39;00m\n\u001b[0;32m-> 1094\u001b[0m     fps, tps, thresholds \u001b[38;5;241m=\u001b[39m _binary_clf_curve(\n\u001b[1;32m   1095\u001b[0m         y_true, y_score, pos_label\u001b[38;5;241m=\u001b[39mpos_label, sample_weight\u001b[38;5;241m=\u001b[39msample_weight\n\u001b[1;32m   1096\u001b[0m     )\n\u001b[1;32m   1098\u001b[0m     \u001b[38;5;66;03m# Attempt to drop thresholds corresponding to points in between and\u001b[39;00m\n\u001b[1;32m   1099\u001b[0m     \u001b[38;5;66;03m# collinear with other points. These are always suboptimal and do not\u001b[39;00m\n\u001b[1;32m   1100\u001b[0m     \u001b[38;5;66;03m# appear on a plotted ROC curve (and thus do not affect the AUC).\u001b[39;00m\n\u001b[0;32m   (...)\u001b[0m\n\u001b[1;32m   1105\u001b[0m     \u001b[38;5;66;03m# but does not drop more complicated cases like fps = [1, 3, 7],\u001b[39;00m\n\u001b[1;32m   1106\u001b[0m     \u001b[38;5;66;03m# tps = [1, 2, 4]; there is no harm in keeping too many thresholds.\u001b[39;00m\n\u001b[1;32m   1107\u001b[0m     \u001b[38;5;28;01mif\u001b[39;00m drop_intermediate \u001b[38;5;129;01mand\u001b[39;00m \u001b[38;5;28mlen\u001b[39m(fps) \u001b[38;5;241m>\u001b[39m \u001b[38;5;241m2\u001b[39m:\n",
      "File \u001b[0;32m~/Documents/anaconda3/lib/python3.11/site-packages/sklearn/metrics/_ranking.py:803\u001b[0m, in \u001b[0;36m_binary_clf_curve\u001b[0;34m(y_true, y_score, pos_label, sample_weight)\u001b[0m\n\u001b[1;32m    801\u001b[0m y_type \u001b[38;5;241m=\u001b[39m type_of_target(y_true, input_name\u001b[38;5;241m=\u001b[39m\u001b[38;5;124m\"\u001b[39m\u001b[38;5;124my_true\u001b[39m\u001b[38;5;124m\"\u001b[39m)\n\u001b[1;32m    802\u001b[0m \u001b[38;5;28;01mif\u001b[39;00m \u001b[38;5;129;01mnot\u001b[39;00m (y_type \u001b[38;5;241m==\u001b[39m \u001b[38;5;124m\"\u001b[39m\u001b[38;5;124mbinary\u001b[39m\u001b[38;5;124m\"\u001b[39m \u001b[38;5;129;01mor\u001b[39;00m (y_type \u001b[38;5;241m==\u001b[39m \u001b[38;5;124m\"\u001b[39m\u001b[38;5;124mmulticlass\u001b[39m\u001b[38;5;124m\"\u001b[39m \u001b[38;5;129;01mand\u001b[39;00m pos_label \u001b[38;5;129;01mis\u001b[39;00m \u001b[38;5;129;01mnot\u001b[39;00m \u001b[38;5;28;01mNone\u001b[39;00m)):\n\u001b[0;32m--> 803\u001b[0m     \u001b[38;5;28;01mraise\u001b[39;00m \u001b[38;5;167;01mValueError\u001b[39;00m(\u001b[38;5;124m\"\u001b[39m\u001b[38;5;132;01m{0}\u001b[39;00m\u001b[38;5;124m format is not supported\u001b[39m\u001b[38;5;124m\"\u001b[39m\u001b[38;5;241m.\u001b[39mformat(y_type))\n\u001b[1;32m    805\u001b[0m check_consistent_length(y_true, y_score, sample_weight)\n\u001b[1;32m    806\u001b[0m y_true \u001b[38;5;241m=\u001b[39m column_or_1d(y_true)\n",
      "\u001b[0;31mValueError\u001b[0m: multiclass format is not supported"
     ]
    }
   ],
   "source": [
    "from sklearn.metrics import roc_curve, roc_auc_score\n",
    "\n",
    "# Calculate the probability of positive class\n",
    "y_prob = model.predict_proba(X_test)[:, 1]\n",
    "\n",
    "# Calculate ROC curve\n",
    "fpr, tpr, thresholds = roc_curve(y_test, y_prob)\n",
    "\n",
    "# Plot ROC curve\n",
    "plt.plot(fpr, tpr, label=f'AUC = {roc_auc_score(y_test, y_prob):.2f}')\n",
    "plt.xlabel('False Positive Rate')\n",
    "plt.ylabel('True Positive Rate')\n",
    "plt.title('ROC Curve')\n",
    "plt.legend()\n",
    "plt.show()\n"
   ]
  },
  {
   "cell_type": "code",
   "execution_count": 44,
   "id": "dea1d4fa",
   "metadata": {},
   "outputs": [
    {
     "ename": "ValueError",
     "evalue": "Only one class present in y_true. ROC AUC score is not defined in that case.",
     "output_type": "error",
     "traceback": [
      "\u001b[0;31m---------------------------------------------------------------------------\u001b[0m",
      "\u001b[0;31mValueError\u001b[0m                                Traceback (most recent call last)",
      "Cell \u001b[0;32mIn[44], line 11\u001b[0m\n\u001b[1;32m      8\u001b[0m fpr, tpr, thresholds \u001b[38;5;241m=\u001b[39m roc_curve(y_binary, y_prob_binary)\n\u001b[1;32m     10\u001b[0m \u001b[38;5;66;03m# Plot ROC curve\u001b[39;00m\n\u001b[0;32m---> 11\u001b[0m plt\u001b[38;5;241m.\u001b[39mplot(fpr, tpr, label\u001b[38;5;241m=\u001b[39m\u001b[38;5;124mf\u001b[39m\u001b[38;5;124m'\u001b[39m\u001b[38;5;124mAUC = \u001b[39m\u001b[38;5;132;01m{\u001b[39;00mroc_auc_score(y_binary,\u001b[38;5;250m \u001b[39my_prob_binary)\u001b[38;5;132;01m:\u001b[39;00m\u001b[38;5;124m.2f\u001b[39m\u001b[38;5;132;01m}\u001b[39;00m\u001b[38;5;124m'\u001b[39m)\n\u001b[1;32m     12\u001b[0m plt\u001b[38;5;241m.\u001b[39mxlabel(\u001b[38;5;124m'\u001b[39m\u001b[38;5;124mFalse Positive Rate\u001b[39m\u001b[38;5;124m'\u001b[39m)\n\u001b[1;32m     13\u001b[0m plt\u001b[38;5;241m.\u001b[39mylabel(\u001b[38;5;124m'\u001b[39m\u001b[38;5;124mTrue Positive Rate\u001b[39m\u001b[38;5;124m'\u001b[39m)\n",
      "File \u001b[0;32m~/Documents/anaconda3/lib/python3.11/site-packages/sklearn/utils/_param_validation.py:211\u001b[0m, in \u001b[0;36mvalidate_params.<locals>.decorator.<locals>.wrapper\u001b[0;34m(*args, **kwargs)\u001b[0m\n\u001b[1;32m    205\u001b[0m \u001b[38;5;28;01mtry\u001b[39;00m:\n\u001b[1;32m    206\u001b[0m     \u001b[38;5;28;01mwith\u001b[39;00m config_context(\n\u001b[1;32m    207\u001b[0m         skip_parameter_validation\u001b[38;5;241m=\u001b[39m(\n\u001b[1;32m    208\u001b[0m             prefer_skip_nested_validation \u001b[38;5;129;01mor\u001b[39;00m global_skip_validation\n\u001b[1;32m    209\u001b[0m         )\n\u001b[1;32m    210\u001b[0m     ):\n\u001b[0;32m--> 211\u001b[0m         \u001b[38;5;28;01mreturn\u001b[39;00m func(\u001b[38;5;241m*\u001b[39margs, \u001b[38;5;241m*\u001b[39m\u001b[38;5;241m*\u001b[39mkwargs)\n\u001b[1;32m    212\u001b[0m \u001b[38;5;28;01mexcept\u001b[39;00m InvalidParameterError \u001b[38;5;28;01mas\u001b[39;00m e:\n\u001b[1;32m    213\u001b[0m     \u001b[38;5;66;03m# When the function is just a wrapper around an estimator, we allow\u001b[39;00m\n\u001b[1;32m    214\u001b[0m     \u001b[38;5;66;03m# the function to delegate validation to the estimator, but we replace\u001b[39;00m\n\u001b[1;32m    215\u001b[0m     \u001b[38;5;66;03m# the name of the estimator by the name of the function in the error\u001b[39;00m\n\u001b[1;32m    216\u001b[0m     \u001b[38;5;66;03m# message to avoid confusion.\u001b[39;00m\n\u001b[1;32m    217\u001b[0m     msg \u001b[38;5;241m=\u001b[39m re\u001b[38;5;241m.\u001b[39msub(\n\u001b[1;32m    218\u001b[0m         \u001b[38;5;124mr\u001b[39m\u001b[38;5;124m\"\u001b[39m\u001b[38;5;124mparameter of \u001b[39m\u001b[38;5;124m\\\u001b[39m\u001b[38;5;124mw+ must be\u001b[39m\u001b[38;5;124m\"\u001b[39m,\n\u001b[1;32m    219\u001b[0m         \u001b[38;5;124mf\u001b[39m\u001b[38;5;124m\"\u001b[39m\u001b[38;5;124mparameter of \u001b[39m\u001b[38;5;132;01m{\u001b[39;00mfunc\u001b[38;5;241m.\u001b[39m\u001b[38;5;18m__qualname__\u001b[39m\u001b[38;5;132;01m}\u001b[39;00m\u001b[38;5;124m must be\u001b[39m\u001b[38;5;124m\"\u001b[39m,\n\u001b[1;32m    220\u001b[0m         \u001b[38;5;28mstr\u001b[39m(e),\n\u001b[1;32m    221\u001b[0m     )\n",
      "File \u001b[0;32m~/Documents/anaconda3/lib/python3.11/site-packages/sklearn/metrics/_ranking.py:626\u001b[0m, in \u001b[0;36mroc_auc_score\u001b[0;34m(y_true, y_score, average, sample_weight, max_fpr, multi_class, labels)\u001b[0m\n\u001b[1;32m    624\u001b[0m     labels \u001b[38;5;241m=\u001b[39m np\u001b[38;5;241m.\u001b[39munique(y_true)\n\u001b[1;32m    625\u001b[0m     y_true \u001b[38;5;241m=\u001b[39m label_binarize(y_true, classes\u001b[38;5;241m=\u001b[39mlabels)[:, \u001b[38;5;241m0\u001b[39m]\n\u001b[0;32m--> 626\u001b[0m     \u001b[38;5;28;01mreturn\u001b[39;00m _average_binary_score(\n\u001b[1;32m    627\u001b[0m         partial(_binary_roc_auc_score, max_fpr\u001b[38;5;241m=\u001b[39mmax_fpr),\n\u001b[1;32m    628\u001b[0m         y_true,\n\u001b[1;32m    629\u001b[0m         y_score,\n\u001b[1;32m    630\u001b[0m         average,\n\u001b[1;32m    631\u001b[0m         sample_weight\u001b[38;5;241m=\u001b[39msample_weight,\n\u001b[1;32m    632\u001b[0m     )\n\u001b[1;32m    633\u001b[0m \u001b[38;5;28;01melse\u001b[39;00m:  \u001b[38;5;66;03m# multilabel-indicator\u001b[39;00m\n\u001b[1;32m    634\u001b[0m     \u001b[38;5;28;01mreturn\u001b[39;00m _average_binary_score(\n\u001b[1;32m    635\u001b[0m         partial(_binary_roc_auc_score, max_fpr\u001b[38;5;241m=\u001b[39mmax_fpr),\n\u001b[1;32m    636\u001b[0m         y_true,\n\u001b[0;32m   (...)\u001b[0m\n\u001b[1;32m    639\u001b[0m         sample_weight\u001b[38;5;241m=\u001b[39msample_weight,\n\u001b[1;32m    640\u001b[0m     )\n",
      "File \u001b[0;32m~/Documents/anaconda3/lib/python3.11/site-packages/sklearn/metrics/_base.py:75\u001b[0m, in \u001b[0;36m_average_binary_score\u001b[0;34m(binary_metric, y_true, y_score, average, sample_weight)\u001b[0m\n\u001b[1;32m     72\u001b[0m     \u001b[38;5;28;01mraise\u001b[39;00m \u001b[38;5;167;01mValueError\u001b[39;00m(\u001b[38;5;124m\"\u001b[39m\u001b[38;5;132;01m{0}\u001b[39;00m\u001b[38;5;124m format is not supported\u001b[39m\u001b[38;5;124m\"\u001b[39m\u001b[38;5;241m.\u001b[39mformat(y_type))\n\u001b[1;32m     74\u001b[0m \u001b[38;5;28;01mif\u001b[39;00m y_type \u001b[38;5;241m==\u001b[39m \u001b[38;5;124m\"\u001b[39m\u001b[38;5;124mbinary\u001b[39m\u001b[38;5;124m\"\u001b[39m:\n\u001b[0;32m---> 75\u001b[0m     \u001b[38;5;28;01mreturn\u001b[39;00m binary_metric(y_true, y_score, sample_weight\u001b[38;5;241m=\u001b[39msample_weight)\n\u001b[1;32m     77\u001b[0m check_consistent_length(y_true, y_score, sample_weight)\n\u001b[1;32m     78\u001b[0m y_true \u001b[38;5;241m=\u001b[39m check_array(y_true)\n",
      "File \u001b[0;32m~/Documents/anaconda3/lib/python3.11/site-packages/sklearn/metrics/_ranking.py:381\u001b[0m, in \u001b[0;36m_binary_roc_auc_score\u001b[0;34m(y_true, y_score, sample_weight, max_fpr)\u001b[0m\n\u001b[1;32m    379\u001b[0m \u001b[38;5;250m\u001b[39m\u001b[38;5;124;03m\"\"\"Binary roc auc score.\"\"\"\u001b[39;00m\n\u001b[1;32m    380\u001b[0m \u001b[38;5;28;01mif\u001b[39;00m \u001b[38;5;28mlen\u001b[39m(np\u001b[38;5;241m.\u001b[39munique(y_true)) \u001b[38;5;241m!=\u001b[39m \u001b[38;5;241m2\u001b[39m:\n\u001b[0;32m--> 381\u001b[0m     \u001b[38;5;28;01mraise\u001b[39;00m \u001b[38;5;167;01mValueError\u001b[39;00m(\n\u001b[1;32m    382\u001b[0m         \u001b[38;5;124m\"\u001b[39m\u001b[38;5;124mOnly one class present in y_true. ROC AUC score \u001b[39m\u001b[38;5;124m\"\u001b[39m\n\u001b[1;32m    383\u001b[0m         \u001b[38;5;124m\"\u001b[39m\u001b[38;5;124mis not defined in that case.\u001b[39m\u001b[38;5;124m\"\u001b[39m\n\u001b[1;32m    384\u001b[0m     )\n\u001b[1;32m    386\u001b[0m fpr, tpr, _ \u001b[38;5;241m=\u001b[39m roc_curve(y_true, y_score, sample_weight\u001b[38;5;241m=\u001b[39msample_weight)\n\u001b[1;32m    387\u001b[0m \u001b[38;5;28;01mif\u001b[39;00m max_fpr \u001b[38;5;129;01mis\u001b[39;00m \u001b[38;5;28;01mNone\u001b[39;00m \u001b[38;5;129;01mor\u001b[39;00m max_fpr \u001b[38;5;241m==\u001b[39m \u001b[38;5;241m1\u001b[39m:\n",
      "\u001b[0;31mValueError\u001b[0m: Only one class present in y_true. ROC AUC score is not defined in that case."
     ]
    }
   ],
   "source": [
    "# Create a binary target variable\n",
    "y_binary = (y_test == 'high risk').astype(int)\n",
    "\n",
    "# Calculate the probability of the positive class\n",
    "y_prob_binary = model.predict_proba(X_test)[:, 1]\n",
    "\n",
    "# Calculate ROC curve\n",
    "fpr, tpr, thresholds = roc_curve(y_binary, y_prob_binary)\n",
    "\n",
    "# Plot ROC curve\n",
    "plt.plot(fpr, tpr, label=f'AUC = {roc_auc_score(y_binary, y_prob_binary):.2f}')\n",
    "plt.xlabel('False Positive Rate')\n",
    "plt.ylabel('True Positive Rate')\n",
    "plt.title('ROC Curve')\n",
    "plt.legend()\n",
    "plt.show()\n"
   ]
  },
  {
   "cell_type": "code",
   "execution_count": 45,
   "id": "dc10c5c2",
   "metadata": {},
   "outputs": [
    {
     "name": "stdout",
     "output_type": "stream",
     "text": [
      "Multiclass ROC AUC: 0.54\n"
     ]
    }
   ],
   "source": [
    "from sklearn.metrics import roc_auc_score\n",
    "\n",
    "# Calculate multiclass ROC AUC\n",
    "roc_auc = roc_auc_score(y_test, model.predict_proba(X_test), multi_class='ovr')\n",
    "\n",
    "# Print the multiclass ROC AUC\n",
    "print(f'Multiclass ROC AUC: {roc_auc:.2f}')\n"
   ]
  },
  {
   "cell_type": "code",
   "execution_count": 46,
   "id": "f42a1dcc",
   "metadata": {},
   "outputs": [
    {
     "name": "stdout",
     "output_type": "stream",
     "text": [
      "pay_normal\n",
      "0    378\n",
      "Name: count, dtype: int64\n"
     ]
    }
   ],
   "source": [
    "# Check the distribution of classes in y_binary\n",
    "print(y_binary.value_counts())"
   ]
  },
  {
   "cell_type": "code",
   "execution_count": null,
   "id": "9d7dbda8",
   "metadata": {},
   "outputs": [],
   "source": []
  }
 ],
 "metadata": {
  "kernelspec": {
   "display_name": "Python 3 (ipykernel)",
   "language": "python",
   "name": "python3"
  },
  "language_info": {
   "codemirror_mode": {
    "name": "ipython",
    "version": 3
   },
   "file_extension": ".py",
   "mimetype": "text/x-python",
   "name": "python",
   "nbconvert_exporter": "python",
   "pygments_lexer": "ipython3",
   "version": "3.11.5"
  }
 },
 "nbformat": 4,
 "nbformat_minor": 5
}
